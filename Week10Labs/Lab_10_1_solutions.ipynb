{
  "cells": [
    {
      "cell_type": "markdown",
      "metadata": {
        "id": "j90VrhDVK-wu"
      },
      "source": [
        "# Week 10: Information Retrieval and Question Answering\n",
        "\n",
        "This week we are looking at the tasks of information retrieval and question answering.  In the lab we will look at:\n",
        "* finding relevant documents to a query expressed in terms of keywords\n",
        "* extracting keywords from a query"
      ]
    },
    {
      "cell_type": "code",
      "execution_count": null,
      "metadata": {
        "id": "pMhebx_BLFKd"
      },
      "outputs": [],
      "source": [
        "#from google.colab import drive\n",
        "#drive.mount('/content/drive/')"
      ]
    },
    {
      "cell_type": "code",
      "execution_count": 1,
      "metadata": {
        "colab": {
          "base_uri": "https://localhost:8080/"
        },
        "id": "BqZxoUMWK-wv",
        "outputId": "be8486e5-7397-4317-8dfe-53c4786e22d6"
      },
      "outputs": [
        {
          "name": "stderr",
          "output_type": "stream",
          "text": [
            "[nltk_data] Downloading package punkt to\n",
            "[nltk_data]     /Users/kerimciger/nltk_data...\n",
            "[nltk_data]   Package punkt is already up-to-date!\n",
            "[nltk_data] Downloading package stopwords to\n",
            "[nltk_data]     /Users/kerimciger/nltk_data...\n",
            "[nltk_data]   Package stopwords is already up-to-date!\n"
          ]
        },
        {
          "data": {
            "text/plain": [
              "True"
            ]
          },
          "execution_count": 1,
          "metadata": {},
          "output_type": "execute_result"
        }
      ],
      "source": [
        "#preliminary imports\n",
        "import pandas as pd\n",
        "from itertools import zip_longest\n",
        "from nltk.tokenize import word_tokenize\n",
        "from nltk.corpus import stopwords\n",
        "from nltk.stem.porter import PorterStemmer\n",
        "import re\n",
        "import math\n",
        "import operator\n",
        "\n",
        "import nltk\n",
        "nltk.download('punkt')\n",
        "nltk.download('stopwords')"
      ]
    },
    {
      "cell_type": "markdown",
      "metadata": {
        "id": "d_7sHf2xK-ww"
      },
      "source": [
        "We will be using the Stanford Question Answering Dataset (SQUAD) dataset in this lab, provided in the resources for this week.  For more information about the dataset and the ongoing competition, see the website:  https://rajpurkar.github.io/SQuAD-explorer/explore/1.1/dev/\n",
        "\n",
        "The dataset is provided as 2 json files - one for development and one for training.  Lets read in the smaller development dataset using the json library."
      ]
    },
    {
      "cell_type": "markdown",
      "metadata": {
        "id": "kMH56CqePT87"
      },
      "source": []
    },
    {
      "cell_type": "code",
      "execution_count": 7,
      "metadata": {
        "id": "GrELELYXK-ww"
      },
      "outputs": [],
      "source": [
        "import json\n",
        "import os\n",
        "#filename=\"/content/drive/My Drive/NLE Notebooks/Week10LabsSolutions/Squad/dev-v2.0.json\"\n",
        "#path=\"/Users/home/juliewe/Documents/teaching/NLE/NLE2021/w11/Week11LabsSolutions/Week11Labs\"\n",
        "filename=f'{os.getcwd()}/Squad/dev-v2.0.json'\n",
        "with open(filename,'r') as inputstream:\n",
        "    devdata=json.load(inputstream)\n",
        "    \n"
      ]
    },
    {
      "cell_type": "markdown",
      "metadata": {
        "id": "SHjXUI3jK-ww"
      },
      "source": [
        "The data is now stored in devdata as a deeply-nested dictionary structure.  The `data` field contains a list of dictionaries - one for each of the documents in the dataset."
      ]
    },
    {
      "cell_type": "code",
      "execution_count": 8,
      "metadata": {
        "colab": {
          "base_uri": "https://localhost:8080/"
        },
        "id": "QDXUhuSyK-ww",
        "outputId": "27886ad8-e824-442d-e467-9211534c0b12"
      },
      "outputs": [
        {
          "data": {
            "text/plain": [
              "35"
            ]
          },
          "execution_count": 8,
          "metadata": {},
          "output_type": "execute_result"
        }
      ],
      "source": [
        "len(devdata['data'])"
      ]
    },
    {
      "cell_type": "markdown",
      "metadata": {
        "id": "8l5BxR0sK-wx"
      },
      "source": [
        "Each document dictionary has two key-value pairs."
      ]
    },
    {
      "cell_type": "code",
      "execution_count": 9,
      "metadata": {
        "colab": {
          "base_uri": "https://localhost:8080/"
        },
        "id": "ToekUYHRK-wy",
        "outputId": "928bb70e-e156-4741-9882-edd2de925c84"
      },
      "outputs": [
        {
          "data": {
            "text/plain": [
              "2"
            ]
          },
          "execution_count": 9,
          "metadata": {},
          "output_type": "execute_result"
        }
      ],
      "source": [
        "len(devdata['data'][0].keys())"
      ]
    },
    {
      "cell_type": "code",
      "execution_count": 12,
      "metadata": {
        "colab": {
          "base_uri": "https://localhost:8080/"
        },
        "id": "xDueIs74K-wy",
        "outputId": "e8a139ff-6c1d-42a4-fc72-83420ba0a02f"
      },
      "outputs": [
        {
          "data": {
            "text/plain": [
              "['title', 'paragraphs']"
            ]
          },
          "execution_count": 12,
          "metadata": {},
          "output_type": "execute_result"
        }
      ],
      "source": [
        "list(devdata['data'][0].keys())"
      ]
    },
    {
      "cell_type": "markdown",
      "metadata": {
        "id": "0lZGrOwOK-wy"
      },
      "source": [
        "The `paragraphs` field of a document dictionary is a further list of paragraphs!"
      ]
    },
    {
      "cell_type": "code",
      "execution_count": 13,
      "metadata": {
        "colab": {
          "base_uri": "https://localhost:8080/"
        },
        "id": "UaRRuaylK-wy",
        "outputId": "68c5ec9f-53a4-4e3a-97e0-72093b426f21"
      },
      "outputs": [
        {
          "data": {
            "text/plain": [
              "39"
            ]
          },
          "execution_count": 13,
          "metadata": {},
          "output_type": "execute_result"
        }
      ],
      "source": [
        "len(devdata['data'][0]['paragraphs'])"
      ]
    },
    {
      "cell_type": "markdown",
      "metadata": {
        "id": "PVS1Wa-FK-wy"
      },
      "source": [
        "Each paragraph is a dictionary.  One field `context` contains the text of the paragraph as a String.  "
      ]
    },
    {
      "cell_type": "code",
      "execution_count": 14,
      "metadata": {
        "colab": {
          "base_uri": "https://localhost:8080/"
        },
        "id": "gVkd5iGzK-wy",
        "outputId": "f14fd3e4-c829-4b3f-8149-91dbe591d81b"
      },
      "outputs": [
        {
          "data": {
            "text/plain": [
              "['qas', 'context']"
            ]
          },
          "execution_count": 14,
          "metadata": {},
          "output_type": "execute_result"
        }
      ],
      "source": [
        "list(devdata['data'][0]['paragraphs'][0].keys())"
      ]
    },
    {
      "cell_type": "code",
      "execution_count": 15,
      "metadata": {
        "colab": {
          "base_uri": "https://localhost:8080/",
          "height": 103
        },
        "id": "DOpTu63PK-wy",
        "outputId": "0377060f-1033-4b56-f6bf-3db50db4d133"
      },
      "outputs": [
        {
          "data": {
            "text/plain": [
              "'The Normans (Norman: Nourmands; French: Normands; Latin: Normanni) were the people who in the 10th and 11th centuries gave their name to Normandy, a region in France. They were descended from Norse (\"Norman\" comes from \"Norseman\") raiders and pirates from Denmark, Iceland and Norway who, under their leader Rollo, agreed to swear fealty to King Charles III of West Francia. Through generations of assimilation and mixing with the native Frankish and Roman-Gaulish populations, their descendants would gradually merge with the Carolingian-based cultures of West Francia. The distinct cultural and ethnic identity of the Normans emerged initially in the first half of the 10th century, and it continued to evolve over the succeeding centuries.'"
            ]
          },
          "execution_count": 15,
          "metadata": {},
          "output_type": "execute_result"
        }
      ],
      "source": [
        "devdata['data'][0]['paragraphs'][0]['context']"
      ]
    },
    {
      "cell_type": "markdown",
      "metadata": {
        "id": "EmNt4huvK-wz"
      },
      "source": [
        "The other field `qas` is a list of dictionaries.  Each dictionary contains a `question`, a list of possible `answers`, a unique `id` and a value for `is_impossible` which indicates whether the question is answerable or not given the `context`"
      ]
    },
    {
      "cell_type": "code",
      "execution_count": 16,
      "metadata": {
        "colab": {
          "base_uri": "https://localhost:8080/"
        },
        "id": "MKtlcu8oK-wz",
        "outputId": "3cf33168-146c-47f7-f71e-a8dc64b373f4"
      },
      "outputs": [
        {
          "data": {
            "text/plain": [
              "[{'question': 'In what country is Normandy located?',\n",
              "  'id': '56ddde6b9a695914005b9628',\n",
              "  'answers': [{'text': 'France', 'answer_start': 159},\n",
              "   {'text': 'France', 'answer_start': 159},\n",
              "   {'text': 'France', 'answer_start': 159},\n",
              "   {'text': 'France', 'answer_start': 159}],\n",
              "  'is_impossible': False},\n",
              " {'question': 'When were the Normans in Normandy?',\n",
              "  'id': '56ddde6b9a695914005b9629',\n",
              "  'answers': [{'text': '10th and 11th centuries', 'answer_start': 94},\n",
              "   {'text': 'in the 10th and 11th centuries', 'answer_start': 87},\n",
              "   {'text': '10th and 11th centuries', 'answer_start': 94},\n",
              "   {'text': '10th and 11th centuries', 'answer_start': 94}],\n",
              "  'is_impossible': False},\n",
              " {'question': 'From which countries did the Norse originate?',\n",
              "  'id': '56ddde6b9a695914005b962a',\n",
              "  'answers': [{'text': 'Denmark, Iceland and Norway', 'answer_start': 256},\n",
              "   {'text': 'Denmark, Iceland and Norway', 'answer_start': 256},\n",
              "   {'text': 'Denmark, Iceland and Norway', 'answer_start': 256},\n",
              "   {'text': 'Denmark, Iceland and Norway', 'answer_start': 256}],\n",
              "  'is_impossible': False},\n",
              " {'question': 'Who was the Norse leader?',\n",
              "  'id': '56ddde6b9a695914005b962b',\n",
              "  'answers': [{'text': 'Rollo', 'answer_start': 308},\n",
              "   {'text': 'Rollo', 'answer_start': 308},\n",
              "   {'text': 'Rollo', 'answer_start': 308},\n",
              "   {'text': 'Rollo', 'answer_start': 308}],\n",
              "  'is_impossible': False},\n",
              " {'question': 'What century did the Normans first gain their separate identity?',\n",
              "  'id': '56ddde6b9a695914005b962c',\n",
              "  'answers': [{'text': '10th century', 'answer_start': 671},\n",
              "   {'text': 'the first half of the 10th century', 'answer_start': 649},\n",
              "   {'text': '10th', 'answer_start': 671},\n",
              "   {'text': '10th', 'answer_start': 671}],\n",
              "  'is_impossible': False},\n",
              " {'plausible_answers': [{'text': 'Normans', 'answer_start': 4}],\n",
              "  'question': \"Who gave their name to Normandy in the 1000's and 1100's\",\n",
              "  'id': '5ad39d53604f3c001a3fe8d1',\n",
              "  'answers': [],\n",
              "  'is_impossible': True},\n",
              " {'plausible_answers': [{'text': 'Normandy', 'answer_start': 137}],\n",
              "  'question': 'What is France a region of?',\n",
              "  'id': '5ad39d53604f3c001a3fe8d2',\n",
              "  'answers': [],\n",
              "  'is_impossible': True},\n",
              " {'plausible_answers': [{'text': 'Rollo', 'answer_start': 308}],\n",
              "  'question': 'Who did King Charles III swear fealty to?',\n",
              "  'id': '5ad39d53604f3c001a3fe8d3',\n",
              "  'answers': [],\n",
              "  'is_impossible': True},\n",
              " {'plausible_answers': [{'text': '10th century', 'answer_start': 671}],\n",
              "  'question': 'When did the Frankish identity emerge?',\n",
              "  'id': '5ad39d53604f3c001a3fe8d4',\n",
              "  'answers': [],\n",
              "  'is_impossible': True}]"
            ]
          },
          "execution_count": 16,
          "metadata": {},
          "output_type": "execute_result"
        }
      ],
      "source": [
        "devdata['data'][0]['paragraphs'][0]['qas']"
      ]
    },
    {
      "cell_type": "markdown",
      "metadata": {
        "id": "e9RJLVbhK-wz"
      },
      "source": [
        "To make it easier to work with, lets turn this data structure into 2 simple lists containing the bits that we want.  The first will contain the `context` from the paragraphs and the other will contain the corresponding lists of questions and answers or `qas`."
      ]
    },
    {
      "cell_type": "code",
      "execution_count": 17,
      "metadata": {
        "id": "duDYnPG1K-wz"
      },
      "outputs": [],
      "source": [
        "def get_text_qas(dataset):\n",
        "    textlist=[]\n",
        "    qalist=[]\n",
        "    for document in dataset['data']:\n",
        "        for para in document['paragraphs']:\n",
        "            textlist.append(para['context'])\n",
        "            qalist.append(para['qas'])\n",
        "    \n",
        "    \n",
        "    return textlist,qalist\n",
        "    \n",
        "    \n",
        "textlist,qalist=get_text_qas(devdata)"
      ]
    },
    {
      "cell_type": "code",
      "execution_count": 18,
      "metadata": {
        "colab": {
          "base_uri": "https://localhost:8080/"
        },
        "id": "Ts1fnUhBK-wz",
        "outputId": "23a7b0c3-4ace-4075-9cf7-4842c7d16042"
      },
      "outputs": [
        {
          "name": "stdout",
          "output_type": "stream",
          "text": [
            "['The Norman dynasty had a major political, cultural and military impact on medieval Europe and even the Near East. The Normans were famed for their martial spirit and eventually for their Christian piety, becoming exponents of the Catholic orthodoxy into which they assimilated. They adopted the Gallo-Romance language of the Frankish land they settled, their dialect becoming known as Norman, Normaund or Norman French, an important literary language. The Duchy of Normandy, which they formed by treaty with the French crown, was a great fief of medieval France, and under Richard I of Normandy was forged into a cohesive and formidable principality in feudal tenure. The Normans are noted both for their culture, such as their unique Romanesque architecture and musical traditions, and for their significant military accomplishments and innovations. Norman adventurers founded the Kingdom of Sicily under Roger II after conquering southern Italy on the Saracens and Byzantines, and an expedition on behalf of their duke, William the Conqueror, led to the Norman conquest of England at the Battle of Hastings in 1066. Norman cultural and military influence spread from these new European centres to the Crusader states of the Near East, where their prince Bohemond I founded the Principality of Antioch in the Levant, to Scotland and Wales in Great Britain, to Ireland, and to the coasts of north Africa and the Canary Islands.']\n",
            "[[{'question': 'Who was the duke in the battle of Hastings?', 'id': '56dddf4066d3e219004dad5f', 'answers': [{'text': 'William the Conqueror', 'answer_start': 1022}, {'text': 'William the Conqueror', 'answer_start': 1022}, {'text': 'William the Conqueror', 'answer_start': 1022}], 'is_impossible': False}, {'question': 'Who ruled the duchy of Normandy', 'id': '56dddf4066d3e219004dad60', 'answers': [{'text': 'Richard I', 'answer_start': 573}, {'text': 'Richard I', 'answer_start': 573}, {'text': 'Richard I', 'answer_start': 573}], 'is_impossible': False}, {'question': 'What religion were the Normans', 'id': '56dddf4066d3e219004dad61', 'answers': [{'text': 'Catholic', 'answer_start': 230}, {'text': 'Catholic orthodoxy', 'answer_start': 230}, {'text': 'Catholic', 'answer_start': 230}], 'is_impossible': False}, {'plausible_answers': [{'text': 'political, cultural and military', 'answer_start': 31}], 'question': 'What type of major impact did the Norman dynasty have on modern Europe?', 'id': '5ad3a266604f3c001a3fea27', 'answers': [], 'is_impossible': True}, {'plausible_answers': [{'text': 'Normans', 'answer_start': 118}], 'question': 'Who was famed for their Christian spirit?', 'id': '5ad3a266604f3c001a3fea28', 'answers': [], 'is_impossible': True}, {'plausible_answers': [{'text': 'Normans', 'answer_start': 118}], 'question': 'Who assimilted the Roman language?', 'id': '5ad3a266604f3c001a3fea29', 'answers': [], 'is_impossible': True}, {'plausible_answers': [{'text': 'Richard I', 'answer_start': 573}], 'question': 'Who ruled the country of Normandy?', 'id': '5ad3a266604f3c001a3fea2a', 'answers': [], 'is_impossible': True}, {'plausible_answers': [{'text': 'Antioch', 'answer_start': 1295}], 'question': 'What principality did William the conquerer found?', 'id': '5ad3a266604f3c001a3fea2b', 'answers': [], 'is_impossible': True}]]\n"
          ]
        }
      ],
      "source": [
        "print(textlist[1:2])\n",
        "print(qalist[1:2])"
      ]
    },
    {
      "cell_type": "markdown",
      "metadata": {
        "id": "kZ-tARcQK-wz"
      },
      "source": [
        "## Keyword Search\n",
        "In order to perform a keyword search of a document collection, the collection needs to be indexed by words.  The index is a mapping from keywords to lists of document ids containing that document.\n",
        "\n",
        "Here, we will consider each paragraph as an individual document and its **id** is its position in the `textlist` list created above\n",
        "\n",
        "### Exercise 1.1\n",
        "Write a function `extract_keywords()` which takes a string and returns a set of keywords.  Make sure you carry out appropriate normalisation and filtering"
      ]
    },
    {
      "cell_type": "code",
      "execution_count": 20,
      "metadata": {
        "id": "HHaPtUfFK-wz"
      },
      "outputs": [],
      "source": [
        "def normalise(tokenlist):\n",
        "    tokenlist=[token.lower() for token in tokenlist]\n",
        "    tokenlist=[\"NUM\" if token.isdigit() else token for token in tokenlist]\n",
        "    tokenlist=[\"Nth\" if (token.endswith((\"nd\",\"st\",\"th\")) and token[:-2].isdigit()) else token for token in tokenlist]\n",
        "    tokenlist=[\"NUM\" if re.search(r\"^[+-]?[0-9]+\\.[0-9]\",token) else token for token in tokenlist]\n",
        "    return tokenlist\n",
        "\n",
        "def filter_stopwords(tokenlist):\n",
        "    stop = stopwords.words('english')\n",
        "    return [w for w in tokenlist if w.isalpha() and w not in stop]\n",
        "\n",
        "def stem(tokenlist):\n",
        "    st=PorterStemmer()\n",
        "    return [st.stem(token) for token in tokenlist]\n",
        "\n",
        "def make_bow(somestring):\n",
        "    rep=word_tokenize(somestring)  #step 1\n",
        "    rep=normalise(rep)   #step 2\n",
        "    rep=stem(rep)   #step 3\n",
        "    rep=filter_stopwords(rep)  #step 4\n",
        "    dict_rep={}\n",
        "    for token in rep:\n",
        "        dict_rep[token]=dict_rep.get(token,0)+1  #step 5\n",
        "    return(dict_rep)"
      ]
    },
    {
      "cell_type": "code",
      "execution_count": 21,
      "metadata": {
        "id": "x5QBVBbcK-wz"
      },
      "outputs": [],
      "source": [
        "def extract_keywords(somestring):\n",
        "    return set(make_bow(somestring).keys())"
      ]
    },
    {
      "cell_type": "code",
      "execution_count": 22,
      "metadata": {
        "colab": {
          "base_uri": "https://localhost:8080/"
        },
        "id": "dbt_8q6VK-wz",
        "outputId": "7b2e6e4c-ec08-4019-da59-e1c2df1639f6"
      },
      "outputs": [
        {
          "data": {
            "text/plain": [
              "{'accomplish',\n",
              " 'adopt',\n",
              " 'adventur',\n",
              " 'africa',\n",
              " 'antioch',\n",
              " 'architectur',\n",
              " 'assimil',\n",
              " 'battl',\n",
              " 'becom',\n",
              " 'behalf',\n",
              " 'bohemond',\n",
              " 'britain',\n",
              " 'byzantin',\n",
              " 'canari',\n",
              " 'cathol',\n",
              " 'centr',\n",
              " 'christian',\n",
              " 'coast',\n",
              " 'cohes',\n",
              " 'conquer',\n",
              " 'conqueror',\n",
              " 'conquest',\n",
              " 'crown',\n",
              " 'crusad',\n",
              " 'cultur',\n",
              " 'dialect',\n",
              " 'duchi',\n",
              " 'duke',\n",
              " 'dynasti',\n",
              " 'east',\n",
              " 'england',\n",
              " 'europ',\n",
              " 'european',\n",
              " 'even',\n",
              " 'eventu',\n",
              " 'expedit',\n",
              " 'expon',\n",
              " 'fame',\n",
              " 'feudal',\n",
              " 'fief',\n",
              " 'forg',\n",
              " 'form',\n",
              " 'formid',\n",
              " 'found',\n",
              " 'franc',\n",
              " 'frankish',\n",
              " 'french',\n",
              " 'great',\n",
              " 'hast',\n",
              " 'ii',\n",
              " 'impact',\n",
              " 'import',\n",
              " 'influenc',\n",
              " 'innov',\n",
              " 'ireland',\n",
              " 'island',\n",
              " 'itali',\n",
              " 'kingdom',\n",
              " 'known',\n",
              " 'land',\n",
              " 'languag',\n",
              " 'led',\n",
              " 'levant',\n",
              " 'literari',\n",
              " 'major',\n",
              " 'martial',\n",
              " 'mediev',\n",
              " 'militari',\n",
              " 'music',\n",
              " 'near',\n",
              " 'new',\n",
              " 'norman',\n",
              " 'normandi',\n",
              " 'normaund',\n",
              " 'north',\n",
              " 'note',\n",
              " 'num',\n",
              " 'orthodoxi',\n",
              " 'pieti',\n",
              " 'polit',\n",
              " 'princ',\n",
              " 'princip',\n",
              " 'richard',\n",
              " 'roger',\n",
              " 'romanesqu',\n",
              " 'saracen',\n",
              " 'scotland',\n",
              " 'settl',\n",
              " 'sicili',\n",
              " 'signific',\n",
              " 'southern',\n",
              " 'spirit',\n",
              " 'spread',\n",
              " 'state',\n",
              " 'tenur',\n",
              " 'tradit',\n",
              " 'treati',\n",
              " 'uniqu',\n",
              " 'wa',\n",
              " 'wale',\n",
              " 'william'}"
            ]
          },
          "execution_count": 22,
          "metadata": {},
          "output_type": "execute_result"
        }
      ],
      "source": [
        "extract_keywords(textlist[1])"
      ]
    },
    {
      "cell_type": "markdown",
      "metadata": {
        "id": "Nxk5agRYK-wz"
      },
      "source": [
        "### Exercise 1.2\n",
        "Create a keyword index for the paragraphs in textlist.  "
      ]
    },
    {
      "cell_type": "code",
      "execution_count": 23,
      "metadata": {
        "id": "LhMnAMJDK-wz"
      },
      "outputs": [],
      "source": [
        "def create_index(stringlist):\n",
        "    index={}\n",
        "    for i,para in enumerate(stringlist):\n",
        "        words=extract_keywords(para)\n",
        "        for word in words:\n",
        "            current=index.get(word,[])\n",
        "            current.append(i)\n",
        "            index[word]=current\n",
        "    return index\n",
        "\n",
        "ind=create_index(textlist)\n",
        "            \n",
        "        "
      ]
    },
    {
      "cell_type": "code",
      "execution_count": 24,
      "metadata": {
        "colab": {
          "base_uri": "https://localhost:8080/"
        },
        "id": "nBFVRYneK-wz",
        "outputId": "d40e2e4c-3827-476f-91a6-eefbdaaa21c6"
      },
      "outputs": [
        {
          "data": {
            "text/plain": [
              "[1, 16]"
            ]
          },
          "execution_count": 24,
          "metadata": {},
          "output_type": "execute_result"
        }
      ],
      "source": [
        "ind.get('hast',[])"
      ]
    },
    {
      "cell_type": "markdown",
      "metadata": {
        "id": "hdsVDORvK-wz"
      },
      "source": [
        "### Exercise 1.3\n",
        "Write a class `docssearch` that is initialised with a list of strings, stores the list of strings and also creates an index.  Then write a method to search the keyword index for a single keyword and returns a list of paragraphs containing that keyword.  \n",
        "\n"
      ]
    },
    {
      "cell_type": "code",
      "execution_count": 25,
      "metadata": {
        "id": "thl6sdi6K-wz"
      },
      "outputs": [],
      "source": [
        "class docssearch():\n",
        "    \n",
        "    def __init__(self,docs):\n",
        "        self.docs=docs\n",
        "        self.index=create_index(docs)        \n",
        "\n",
        "    def search(self,keyword):\n",
        "        return [self.docs[index] for index in self.index.get(keyword,[])]\n",
        "        \n",
        "    "
      ]
    },
    {
      "cell_type": "code",
      "execution_count": 26,
      "metadata": {
        "colab": {
          "base_uri": "https://localhost:8080/"
        },
        "id": "k2VZNyasK-wz",
        "outputId": "983869bb-6d17-47b4-f434-2ab25804f106"
      },
      "outputs": [
        {
          "data": {
            "text/plain": [
              "['The Normans (Norman: Nourmands; French: Normands; Latin: Normanni) were the people who in the 10th and 11th centuries gave their name to Normandy, a region in France. They were descended from Norse (\"Norman\" comes from \"Norseman\") raiders and pirates from Denmark, Iceland and Norway who, under their leader Rollo, agreed to swear fealty to King Charles III of West Francia. Through generations of assimilation and mixing with the native Frankish and Roman-Gaulish populations, their descendants would gradually merge with the Carolingian-based cultures of West Francia. The distinct cultural and ethnic identity of the Normans emerged initially in the first half of the 10th century, and it continued to evolve over the succeeding centuries.',\n",
              " 'The Norman dynasty had a major political, cultural and military impact on medieval Europe and even the Near East. The Normans were famed for their martial spirit and eventually for their Christian piety, becoming exponents of the Catholic orthodoxy into which they assimilated. They adopted the Gallo-Romance language of the Frankish land they settled, their dialect becoming known as Norman, Normaund or Norman French, an important literary language. The Duchy of Normandy, which they formed by treaty with the French crown, was a great fief of medieval France, and under Richard I of Normandy was forged into a cohesive and formidable principality in feudal tenure. The Normans are noted both for their culture, such as their unique Romanesque architecture and musical traditions, and for their significant military accomplishments and innovations. Norman adventurers founded the Kingdom of Sicily under Roger II after conquering southern Italy on the Saracens and Byzantines, and an expedition on behalf of their duke, William the Conqueror, led to the Norman conquest of England at the Battle of Hastings in 1066. Norman cultural and military influence spread from these new European centres to the Crusader states of the Near East, where their prince Bohemond I founded the Principality of Antioch in the Levant, to Scotland and Wales in Great Britain, to Ireland, and to the coasts of north Africa and the Canary Islands.',\n",
              " 'The English name \"Normans\" comes from the French words Normans/Normanz, plural of Normant, modern French normand, which is itself borrowed from Old Low Franconian Nortmann \"Northman\" or directly from Old Norse Norðmaðr, Latinized variously as Nortmannus, Normannus, or Nordmannus (recorded in Medieval Latin, 9th century) to mean \"Norseman, Viking\".',\n",
              " 'The descendants of Rollo\\'s Vikings and their Frankish wives would replace the Norse religion and Old Norse language with Catholicism (Christianity) and the Gallo-Romance language of the local people, blending their maternal Frankish heritage with Old Norse traditions and customs to synthesize a unique \"Norman\" culture in the north of France. The Norman language was forged by the adoption of the indigenous langue d\\'oïl branch of Romance by a Norse-speaking ruling class, and it developed into the regional language that survives today.',\n",
              " 'The Normans thereafter adopted the growing feudal doctrines of the rest of France, and worked them into a functional hierarchical system in both Normandy and in England. The new Norman rulers were culturally and ethnically distinct from the old French aristocracy, most of whom traced their lineage to Franks of the Carolingian dynasty. Most Norman knights remained poor and land-hungry, and by 1066 Normandy had been exporting fighting horsemen for more than a generation. Many Normans of Italy, France and England eventually served as avid Crusaders under the Italo-Norman prince Bohemund I and the Anglo-Norman king Richard the Lion-Heart.']"
            ]
          },
          "execution_count": 26,
          "metadata": {},
          "output_type": "execute_result"
        }
      ],
      "source": [
        "paras=docssearch(textlist)\n",
        "paras.search('norman')[:5]"
      ]
    },
    {
      "cell_type": "code",
      "execution_count": 27,
      "metadata": {
        "colab": {
          "base_uri": "https://localhost:8080/"
        },
        "id": "XndIbTmnK-wz",
        "outputId": "492936c1-dfe3-4235-d556-d8ae9815952b"
      },
      "outputs": [
        {
          "data": {
            "text/plain": [
              "['The Norman dynasty had a major political, cultural and military impact on medieval Europe and even the Near East. The Normans were famed for their martial spirit and eventually for their Christian piety, becoming exponents of the Catholic orthodoxy into which they assimilated. They adopted the Gallo-Romance language of the Frankish land they settled, their dialect becoming known as Norman, Normaund or Norman French, an important literary language. The Duchy of Normandy, which they formed by treaty with the French crown, was a great fief of medieval France, and under Richard I of Normandy was forged into a cohesive and formidable principality in feudal tenure. The Normans are noted both for their culture, such as their unique Romanesque architecture and musical traditions, and for their significant military accomplishments and innovations. Norman adventurers founded the Kingdom of Sicily under Roger II after conquering southern Italy on the Saracens and Byzantines, and an expedition on behalf of their duke, William the Conqueror, led to the Norman conquest of England at the Battle of Hastings in 1066. Norman cultural and military influence spread from these new European centres to the Crusader states of the Near East, where their prince Bohemond I founded the Principality of Antioch in the Levant, to Scotland and Wales in Great Britain, to Ireland, and to the coasts of north Africa and the Canary Islands.',\n",
              " 'One of the first Norman mercenaries to serve as a Byzantine general was Hervé in the 1050s. By then however, there were already Norman mercenaries serving as far away as Trebizond and Georgia. They were based at Malatya and Edessa, under the Byzantine duke of Antioch, Isaac Komnenos. In the 1060s, Robert Crispin led the Normans of Edessa against the Turks. Roussel de Bailleul even tried to carve out an independent state in Asia Minor with support from the local population, but he was stopped by the Byzantine general Alexius Komnenos.',\n",
              " \"The Normans were in contact with England from an early date. Not only were their original Viking brethren still ravaging the English coasts, they occupied most of the important ports opposite England across the English Channel. This relationship eventually produced closer ties of blood through the marriage of Emma, sister of Duke Richard II of Normandy, and King Ethelred II of England. Because of this, Ethelred fled to Normandy in 1013, when he was forced from his kingdom by Sweyn Forkbeard. His stay in Normandy (until 1016) influenced him and his sons by Emma, who stayed in Normandy after Cnut the Great's conquest of the isle.\",\n",
              " 'In 1066, Duke William II of Normandy conquered England killing King Harold II at the Battle of Hastings. The invading Normans and their descendants replaced the Anglo-Saxons as the ruling class of England. The nobility of England were part of a single Normans culture and many had lands on both sides of the channel. Early Norman kings of England, as Dukes of Normandy, owed homage to the King of France for their land on the continent. They considered England to be their most important holding (it brought with it the title of King—an important status symbol).',\n",
              " 'In the visual arts, the Normans did not have the rich and distinctive traditions of the cultures they conquered. However, in the early 11th century the dukes began a programme of church reform, encouraging the Cluniac reform of monasteries and patronising intellectual pursuits, especially the proliferation of scriptoria and the reconstitution of a compilation of lost illuminated manuscripts. The church was utilised by the dukes as a unifying force for their disparate duchy. The chief monasteries taking part in this \"renaissance\" of Norman art and scholarship were Mont-Saint-Michel, Fécamp, Jumièges, Bec, Saint-Ouen, Saint-Evroul, and Saint-Wandrille. These centres were in contact with the so-called \"Winchester school\", which channeled a pure Carolingian artistic tradition to Normandy. In the final decade of the 11th and first of the 12th century, Normandy experienced a golden age of illustrated manuscripts, but it was brief and the major scriptoria of Normandy ceased to function after the midpoint of the century.',\n",
              " 'A term used originally in derision, Huguenot has unclear origins. Various hypotheses have been promoted. The nickname may have been a combined reference to the Swiss politician Besançon Hugues (died 1532) and the religiously conflicted nature of Swiss republicanism in his time, using a clever derogatory pun on the name Hugues by way of the Dutch word Huisgenoten (literally housemates), referring to the connotations of a somewhat related word in German Eidgenosse (Confederates as in \"a citizen of one of the states of the Swiss Confederacy\"). Geneva was John Calvin\\'s adopted home and the centre of the Calvinist movement. In Geneva, Hugues, though Catholic, was a leader of the \"Confederate Party\", so called because it favoured independence from the Duke of Savoy through an alliance between the city-state of Geneva and the Swiss Confederation. The label Huguenot was purportedly first applied in France to those conspirators (all of them aristocratic members of the Reformed Church) involved in the Amboise plot of 1560: a foiled attempt to wrest power in France from the influential House of Guise. The move would have had the side effect of fostering relations with the Swiss. Thus, Hugues plus Eidgenosse by way of Huisgenoten supposedly became Huguenot, a nickname associating the Protestant cause with politics unpopular in France.[citation needed]',\n",
              " 'Around 1685, Huguenot refugees found a safe haven in the Lutheran and Reformed states in Germany and Scandinavia. Nearly 50,000 Huguenots established themselves in Germany, 20,000 of whom were welcomed in Brandenburg-Prussia, where they were granted special privileges (Edict of Potsdam) and churches in which to worship (such as the Church of St. Peter and St. Paul, Angermünde) by Frederick William, Elector of Brandenburg and Duke of Prussia. The Huguenots furnished two new regiments of his army: the Altpreußische Infantry Regiments No. 13 (Regiment on foot Varenne) and 15 (Regiment on foot Wylich). Another 4,000 Huguenots settled in the German territories of Baden, Franconia (Principality of Bayreuth, Principality of Ansbach), Landgraviate of Hesse-Kassel, Duchy of Württemberg, in the Wetterau Association of Imperial Counts, in the Palatinate and Palatinate-Zweibrücken, in the Rhine-Main-Area (Frankfurt), in modern-day Saarland; and 1,500 found refuge in Hamburg, Bremen and Lower Saxony. Three hundred refugees were granted asylum at the court of George William, Duke of Brunswick-Lüneburg in Celle.',\n",
              " 'During the divestment from South Africa movement in the late 1980s, student activists erected a symbolic \"shantytown\" on Harvard Yard and blockaded a speech given by South African Vice Consul Duke Kent-Brown. The Harvard Management Company repeatedly refused to divest, stating that \"operating expenses must not be subject to financially unrealistic strictures or carping by the unsophisticated or by special interest groups.\" However, the university did eventually reduce its South African holdings by $230 million (out of $400 million) in response to the pressure.',\n",
              " \"During the Southern Song dynasty the descendant of Confucius at Qufu, the Duke Yansheng Kong Duanyou fled south with the Song Emperor to Quzhou, while the newly established Jin dynasty (1115–1234) in the north appointed Kong Duanyou's brother Kong Duancao who remained in Qufu as Duke Yansheng. From that time up until the Yuan dynasty, there were two Duke Yanshengs, once in the north in Qufu and the other in the south at Quzhou. During the Yuan dynasty, the Emperor Kublai Khan invited the southern Duke Yansheng Kong Zhu to return to Qufu. Kong Zhu refused, and gave up the title, so the northern branch of the family kept the title of Duke Yansheng. The southern branch still remained in Quzhou where they lived to this day. Confucius's descendants in Quzhou alone number 30,000. During the Yuan dynasty, one of Confucius' descendants moved from China to Goryeo era Korea and established a branch of the family there after marrying a Korean woman.\",\n",
              " \"The first fortified settlements on the site of today's Warsaw were located in Bródno (9th/10th century) and Jazdów (12th/13th century). After Jazdów was raided by nearby clans and dukes, a new similar settlement was established on the site of a small fishing village called Warszowa. The Prince of Płock, Bolesław II of Masovia, established this settlement, the modern-day Warsaw, in about 1300. In the beginning of the 14th century it became one of the seats of the Dukes of Masovia, becoming the official capital of Masovian Duchy in 1413. 14th-century Warsaw's economy rested on mostly crafts and trade. Upon the extinction of the local ducal line, the duchy was reincorporated into the Polish Crown in 1526.\",\n",
              " \"News of the two battles reached England in August. After several months of negotiations, the government of the Duke of Newcastle decided to send an army expedition the following year to dislodge the French. They chose Major General Edward Braddock to lead the expedition. Word of the British military plans leaked to France well before Braddock's departure for North America. In response, King Louis XV dispatched six regiments to New France under the command of Baron Dieskau in 1755. The British, intending to blockade French ports, sent out their fleet in February 1755, but the French fleet had already sailed. Admiral Edward Hawke detached a fast squadron to North America in an attempt to intercept the French.\",\n",
              " \"The British failures in North America, combined with other failures in the European theater, led to the fall from power of Newcastle and his principal military advisor, the Duke of Cumberland. Newcastle and Pitt joined in an uneasy coalition in which Pitt dominated the military planning. He embarked on a plan for the 1758 campaign that was largely developed by Loudoun. He had been replaced by Abercrombie as commander in chief after the failures of 1757. Pitt's plan called for three major offensive actions involving large numbers of regular troops, supported by the provincial militias, aimed at capturing the heartlands of New France. Two of the expeditions were successful, with Fort Duquesne and Louisbourg falling to sizable British forces.\"]"
            ]
          },
          "execution_count": 27,
          "metadata": {},
          "output_type": "execute_result"
        }
      ],
      "source": [
        "paras.search('duke')"
      ]
    },
    {
      "cell_type": "code",
      "execution_count": 28,
      "metadata": {
        "id": "8QKiZWjZyMjZ",
        "outputId": "0dab8aee-da41-4dd1-ffc9-0b9e5d2d570c"
      },
      "outputs": [
        {
          "data": {
            "text/plain": [
              "['The Norman dynasty had a major political, cultural and military impact on medieval Europe and even the Near East. The Normans were famed for their martial spirit and eventually for their Christian piety, becoming exponents of the Catholic orthodoxy into which they assimilated. They adopted the Gallo-Romance language of the Frankish land they settled, their dialect becoming known as Norman, Normaund or Norman French, an important literary language. The Duchy of Normandy, which they formed by treaty with the French crown, was a great fief of medieval France, and under Richard I of Normandy was forged into a cohesive and formidable principality in feudal tenure. The Normans are noted both for their culture, such as their unique Romanesque architecture and musical traditions, and for their significant military accomplishments and innovations. Norman adventurers founded the Kingdom of Sicily under Roger II after conquering southern Italy on the Saracens and Byzantines, and an expedition on behalf of their duke, William the Conqueror, led to the Norman conquest of England at the Battle of Hastings in 1066. Norman cultural and military influence spread from these new European centres to the Crusader states of the Near East, where their prince Bohemond I founded the Principality of Antioch in the Levant, to Scotland and Wales in Great Britain, to Ireland, and to the coasts of north Africa and the Canary Islands.',\n",
              " 'In 1066, Duke William II of Normandy conquered England killing King Harold II at the Battle of Hastings. The invading Normans and their descendants replaced the Anglo-Saxons as the ruling class of England. The nobility of England were part of a single Normans culture and many had lands on both sides of the channel. Early Norman kings of England, as Dukes of Normandy, owed homage to the King of France for their land on the continent. They considered England to be their most important holding (it brought with it the title of King—an important status symbol).']"
            ]
          },
          "execution_count": 28,
          "metadata": {},
          "output_type": "execute_result"
        }
      ],
      "source": [
        "paras.search(\"hast\")"
      ]
    },
    {
      "cell_type": "markdown",
      "metadata": {
        "id": "Z_XEYlOSK-wz"
      },
      "source": [
        "The `merge` function below can be used to efficiently intersect two sorted lists.  It is based on the *merge* of *mergesort*.   You might want to test it out on some other lists.  Remember it will only work if the inputs are sorted."
      ]
    },
    {
      "cell_type": "code",
      "execution_count": 31,
      "metadata": {
        "colab": {
          "base_uri": "https://localhost:8080/"
        },
        "id": "RTHNdQS2K-w0",
        "outputId": "2e456ec2-f3a2-4cd8-e4d2-c547499a0ffa"
      },
      "outputs": [
        {
          "data": {
            "text/plain": [
              "[7, 8]"
            ]
          },
          "execution_count": 31,
          "metadata": {},
          "output_type": "execute_result"
        }
      ],
      "source": [
        "def merge(list1,list2):\n",
        "    '''\n",
        "    function to intersect 2 sorted lists\n",
        "    '''\n",
        "    pointer1=0\n",
        "    pointer2=0\n",
        "    merged=[]\n",
        "    while pointer1<len(list1) and pointer2<len(list2):\n",
        "        #print( f\"Pointers: {pointer1} {pointer2}\")\n",
        "        if list1[pointer1]==list2[pointer2]:\n",
        "            merged.append(list1[pointer1])\n",
        "            pointer1+=1\n",
        "            pointer2+=1\n",
        "            \n",
        "        elif list1[pointer1]<list2[pointer2]:\n",
        "            pointer1+=1\n",
        "        else:\n",
        "            pointer2+=1\n",
        "            \n",
        "    return merged\n",
        "\n",
        "merge([1,5,7,8],[3,6,7,8,15])\n",
        "        "
      ]
    },
    {
      "cell_type": "markdown",
      "metadata": {
        "id": "81vpj1KyK-w0"
      },
      "source": [
        "### Exercise 1.4\n",
        "Add a method `listsearch` that takes a list of keywords and returns a list of paragraphs which contains all of them.\n",
        "\n",
        "Make sure your list of keywords is normalised and filtered in the same way as your paragraph text."
      ]
    },
    {
      "cell_type": "code",
      "execution_count": 32,
      "metadata": {
        "id": "RAhcm7mOK-w0"
      },
      "outputs": [],
      "source": [
        "class docssearch():\n",
        "    \n",
        "    def __init__(self,docs):\n",
        "        self.docs=docs\n",
        "        self.index=create_index(docs)        \n",
        "\n",
        "    def search(self,keyword):\n",
        "        return [self.docs[index] for index in self.index.get(keyword,[])]\n",
        "        \n",
        "    def listsearch(self,keywordlist):\n",
        "        keywordlist=stem(filter_stopwords(normalise(keywordlist)))\n",
        "        if len(keywordlist)>0:\n",
        "            selected =self.index.get(keywordlist[0],[])\n",
        "            for keyword in keywordlist[1:]:\n",
        "                selected=merge(selected,self.index.get(keyword,[]))\n",
        "        return [self.docs[index] for index in selected]\n",
        "        "
      ]
    },
    {
      "cell_type": "code",
      "execution_count": 33,
      "metadata": {
        "colab": {
          "base_uri": "https://localhost:8080/"
        },
        "id": "YU1b7SybK-w0",
        "outputId": "0e34c800-6a22-467a-afdb-0fd0be03ffe7"
      },
      "outputs": [
        {
          "data": {
            "text/plain": [
              "['The Norman dynasty had a major political, cultural and military impact on medieval Europe and even the Near East. The Normans were famed for their martial spirit and eventually for their Christian piety, becoming exponents of the Catholic orthodoxy into which they assimilated. They adopted the Gallo-Romance language of the Frankish land they settled, their dialect becoming known as Norman, Normaund or Norman French, an important literary language. The Duchy of Normandy, which they formed by treaty with the French crown, was a great fief of medieval France, and under Richard I of Normandy was forged into a cohesive and formidable principality in feudal tenure. The Normans are noted both for their culture, such as their unique Romanesque architecture and musical traditions, and for their significant military accomplishments and innovations. Norman adventurers founded the Kingdom of Sicily under Roger II after conquering southern Italy on the Saracens and Byzantines, and an expedition on behalf of their duke, William the Conqueror, led to the Norman conquest of England at the Battle of Hastings in 1066. Norman cultural and military influence spread from these new European centres to the Crusader states of the Near East, where their prince Bohemond I founded the Principality of Antioch in the Levant, to Scotland and Wales in Great Britain, to Ireland, and to the coasts of north Africa and the Canary Islands.',\n",
              " 'One of the first Norman mercenaries to serve as a Byzantine general was Hervé in the 1050s. By then however, there were already Norman mercenaries serving as far away as Trebizond and Georgia. They were based at Malatya and Edessa, under the Byzantine duke of Antioch, Isaac Komnenos. In the 1060s, Robert Crispin led the Normans of Edessa against the Turks. Roussel de Bailleul even tried to carve out an independent state in Asia Minor with support from the local population, but he was stopped by the Byzantine general Alexius Komnenos.',\n",
              " \"The Normans were in contact with England from an early date. Not only were their original Viking brethren still ravaging the English coasts, they occupied most of the important ports opposite England across the English Channel. This relationship eventually produced closer ties of blood through the marriage of Emma, sister of Duke Richard II of Normandy, and King Ethelred II of England. Because of this, Ethelred fled to Normandy in 1013, when he was forced from his kingdom by Sweyn Forkbeard. His stay in Normandy (until 1016) influenced him and his sons by Emma, who stayed in Normandy after Cnut the Great's conquest of the isle.\",\n",
              " 'In 1066, Duke William II of Normandy conquered England killing King Harold II at the Battle of Hastings. The invading Normans and their descendants replaced the Anglo-Saxons as the ruling class of England. The nobility of England were part of a single Normans culture and many had lands on both sides of the channel. Early Norman kings of England, as Dukes of Normandy, owed homage to the King of France for their land on the continent. They considered England to be their most important holding (it brought with it the title of King—an important status symbol).',\n",
              " 'In the visual arts, the Normans did not have the rich and distinctive traditions of the cultures they conquered. However, in the early 11th century the dukes began a programme of church reform, encouraging the Cluniac reform of monasteries and patronising intellectual pursuits, especially the proliferation of scriptoria and the reconstitution of a compilation of lost illuminated manuscripts. The church was utilised by the dukes as a unifying force for their disparate duchy. The chief monasteries taking part in this \"renaissance\" of Norman art and scholarship were Mont-Saint-Michel, Fécamp, Jumièges, Bec, Saint-Ouen, Saint-Evroul, and Saint-Wandrille. These centres were in contact with the so-called \"Winchester school\", which channeled a pure Carolingian artistic tradition to Normandy. In the final decade of the 11th and first of the 12th century, Normandy experienced a golden age of illustrated manuscripts, but it was brief and the major scriptoria of Normandy ceased to function after the midpoint of the century.']"
            ]
          },
          "execution_count": 33,
          "metadata": {},
          "output_type": "execute_result"
        }
      ],
      "source": [
        "paras=docssearch(textlist)\n",
        "paras.listsearch(['norman','duke'])"
      ]
    },
    {
      "cell_type": "markdown",
      "metadata": {
        "id": "XgcDWyLmK-w0"
      },
      "source": [
        "A search for paragraphs relevant to the keywords 'political' and 'kingdom' should return 2 paragraphs.  The first starts 'The Norman dynasty ...' and the second starts 'Throughout the 1980s and 1990s ...'"
      ]
    },
    {
      "cell_type": "code",
      "execution_count": 34,
      "metadata": {
        "colab": {
          "base_uri": "https://localhost:8080/"
        },
        "id": "4QG2AAwaK-w0",
        "outputId": "db4267c5-5dfd-45ba-c613-1c3d3fe8fe91"
      },
      "outputs": [
        {
          "data": {
            "text/plain": [
              "['The Norman dynasty had a major political, cultural and military impact on medieval Europe and even the Near East. The Normans were famed for their martial spirit and eventually for their Christian piety, becoming exponents of the Catholic orthodoxy into which they assimilated. They adopted the Gallo-Romance language of the Frankish land they settled, their dialect becoming known as Norman, Normaund or Norman French, an important literary language. The Duchy of Normandy, which they formed by treaty with the French crown, was a great fief of medieval France, and under Richard I of Normandy was forged into a cohesive and formidable principality in feudal tenure. The Normans are noted both for their culture, such as their unique Romanesque architecture and musical traditions, and for their significant military accomplishments and innovations. Norman adventurers founded the Kingdom of Sicily under Roger II after conquering southern Italy on the Saracens and Byzantines, and an expedition on behalf of their duke, William the Conqueror, led to the Norman conquest of England at the Battle of Hastings in 1066. Norman cultural and military influence spread from these new European centres to the Crusader states of the Near East, where their prince Bohemond I founded the Principality of Antioch in the Levant, to Scotland and Wales in Great Britain, to Ireland, and to the coasts of north Africa and the Canary Islands.',\n",
              " 'Throughout the 1980s and 1990s, demand for a Scottish Parliament grew, in part because the government of the United Kingdom was controlled by the Conservative Party, while Scotland itself elected relatively few Conservative MPs. In the aftermath of the 1979 referendum defeat, the Campaign for a Scottish Assembly was initiated as a pressure group, leading to the 1989 Scottish Constitutional Convention with various organisations such as Scottish churches, political parties and representatives of industry taking part. Publishing its blueprint for devolution in 1995, the Convention provided much of the basis for the structure of the Parliament.']"
            ]
          },
          "execution_count": 34,
          "metadata": {},
          "output_type": "execute_result"
        }
      ],
      "source": [
        "paras.listsearch(['kingdom','political'])"
      ]
    },
    {
      "cell_type": "markdown",
      "metadata": {
        "id": "YHcdPoKMK-w0"
      },
      "source": [
        "## Ranking Documents\n",
        "A rank for a document can be calculated using the **sum** or the **product** of the tf-idf scores of each word in the query calculated over the documents\n",
        "\n",
        "* Why weight the words by tf-idf?\n",
        "* What difference does using the sum or the product make intuitively?\n",
        "\n",
        "Alternatively, you can calculate the cosine similarity of the query to each document.\n",
        "\n",
        "* What information does using cosine incorporate that is ignored by the simple sum or product measures?\n",
        "\n",
        "\n",
        "### Exercise 2.1\n",
        "Generate tf-idf representations of each of the paragraphs (look back to earlier labs to review how to do this).  Store these representations in the `docsearch` class as well.  Then use one of the ranking schemes described above to rank the documents returned by your `listsearch` method.\n",
        "\n",
        "Using a product of tf-idf scores, you should find that the first ranked document for the search \\['political','conquered'\\] is para 1031 with a score of 114; whereas using a sum it is para 1031 with a score of 27.7"
      ]
    },
    {
      "cell_type": "code",
      "execution_count": 35,
      "metadata": {
        "id": "XnZYmb96K-w0"
      },
      "outputs": [],
      "source": [
        "\n",
        "def doc_freq(doclist):\n",
        "    df={}\n",
        "    for doc in doclist:\n",
        "        for feat in doc.keys():\n",
        "            df[feat]=df.get(feat,0)+1\n",
        "            \n",
        "    return df\n",
        "    \n",
        "def idf(doclist):\n",
        "    N=len(doclist)\n",
        "    return {feat:math.log(N/v) for feat,v in doc_freq(doclist).items()}\n",
        "\n",
        "def convert_to_tfidf(docs,idfvalues):\n",
        "    converted=[{f:v*idfvalues.get(f,0) for f,v in doc.items()} for doc in docs]\n",
        "    return converted"
      ]
    },
    {
      "cell_type": "code",
      "execution_count": 36,
      "metadata": {
        "id": "ZvuTq9Z_K-w0"
      },
      "outputs": [],
      "source": [
        "class docssearch():\n",
        "    \n",
        "    def __init__(self,docs):\n",
        "        self.docs=docs\n",
        "        self.index=create_index(docs)        \n",
        "        self.bow=[make_bow(doc) for doc in self.docs]\n",
        "        self.tfidf=convert_to_tfidf(self.bow,idf(self.bow))\n",
        "        \n",
        "    def search(self,keyword):\n",
        "        return [self.docs[index] for index in self.index.get(keyword,[])]\n",
        "        \n",
        "    def listsearch(self,keywordlist):\n",
        "        keywordlist=stem(filter_stopwords(normalise(keywordlist)))\n",
        "        if len(keywordlist)>0:\n",
        "            selected =self.index.get(keywordlist[0],[])\n",
        "            for keyword in keywordlist[1:]:\n",
        "                selected=merge(selected,self.index.get(keyword,[]))\n",
        "                \n",
        "        scored=[(ind,self.score(ind,keywordlist)) for ind in selected]\n",
        "        ranked=sorted(scored,key=operator.itemgetter(1),reverse=True)\n",
        "        print(ranked)\n",
        "        return [self.docs[index] for (index,_) in ranked]\n",
        "    \n",
        "    def score(self,ind,keywordlist):\n",
        "        tfidfs=self.tfidf[ind]\n",
        "        thesum=1\n",
        "        for keyword in keywordlist:\n",
        "            thesum*=tfidfs.get(keyword,0)\n",
        "        return thesum"
      ]
    },
    {
      "cell_type": "code",
      "execution_count": 37,
      "metadata": {
        "colab": {
          "base_uri": "https://localhost:8080/"
        },
        "id": "ZltFoK_mK-w0",
        "outputId": "dde727b7-0b13-4ad7-e25f-cf77e273312f"
      },
      "outputs": [
        {
          "name": "stdout",
          "output_type": "stream",
          "text": [
            "[(1, 128.3922637569877), (16, 96.29419781774077), (33, 64.19613187849384), (8, 48.14709890887038), (14, 16.04903296962346)]\n"
          ]
        },
        {
          "data": {
            "text/plain": [
              "['The Norman dynasty had a major political, cultural and military impact on medieval Europe and even the Near East. The Normans were famed for their martial spirit and eventually for their Christian piety, becoming exponents of the Catholic orthodoxy into which they assimilated. They adopted the Gallo-Romance language of the Frankish land they settled, their dialect becoming known as Norman, Normaund or Norman French, an important literary language. The Duchy of Normandy, which they formed by treaty with the French crown, was a great fief of medieval France, and under Richard I of Normandy was forged into a cohesive and formidable principality in feudal tenure. The Normans are noted both for their culture, such as their unique Romanesque architecture and musical traditions, and for their significant military accomplishments and innovations. Norman adventurers founded the Kingdom of Sicily under Roger II after conquering southern Italy on the Saracens and Byzantines, and an expedition on behalf of their duke, William the Conqueror, led to the Norman conquest of England at the Battle of Hastings in 1066. Norman cultural and military influence spread from these new European centres to the Crusader states of the Near East, where their prince Bohemond I founded the Principality of Antioch in the Levant, to Scotland and Wales in Great Britain, to Ireland, and to the coasts of north Africa and the Canary Islands.',\n",
              " 'In 1066, Duke William II of Normandy conquered England killing King Harold II at the Battle of Hastings. The invading Normans and their descendants replaced the Anglo-Saxons as the ruling class of England. The nobility of England were part of a single Normans culture and many had lands on both sides of the channel. Early Norman kings of England, as Dukes of Normandy, owed homage to the King of France for their land on the continent. They considered England to be their most important holding (it brought with it the title of King—an important status symbol).',\n",
              " 'In the visual arts, the Normans did not have the rich and distinctive traditions of the cultures they conquered. However, in the early 11th century the dukes began a programme of church reform, encouraging the Cluniac reform of monasteries and patronising intellectual pursuits, especially the proliferation of scriptoria and the reconstitution of a compilation of lost illuminated manuscripts. The church was utilised by the dukes as a unifying force for their disparate duchy. The chief monasteries taking part in this \"renaissance\" of Norman art and scholarship were Mont-Saint-Michel, Fécamp, Jumièges, Bec, Saint-Ouen, Saint-Evroul, and Saint-Wandrille. These centres were in contact with the so-called \"Winchester school\", which channeled a pure Carolingian artistic tradition to Normandy. In the final decade of the 11th and first of the 12th century, Normandy experienced a golden age of illustrated manuscripts, but it was brief and the major scriptoria of Normandy ceased to function after the midpoint of the century.',\n",
              " 'One of the first Norman mercenaries to serve as a Byzantine general was Hervé in the 1050s. By then however, there were already Norman mercenaries serving as far away as Trebizond and Georgia. They were based at Malatya and Edessa, under the Byzantine duke of Antioch, Isaac Komnenos. In the 1060s, Robert Crispin led the Normans of Edessa against the Turks. Roussel de Bailleul even tried to carve out an independent state in Asia Minor with support from the local population, but he was stopped by the Byzantine general Alexius Komnenos.',\n",
              " \"The Normans were in contact with England from an early date. Not only were their original Viking brethren still ravaging the English coasts, they occupied most of the important ports opposite England across the English Channel. This relationship eventually produced closer ties of blood through the marriage of Emma, sister of Duke Richard II of Normandy, and King Ethelred II of England. Because of this, Ethelred fled to Normandy in 1013, when he was forced from his kingdom by Sweyn Forkbeard. His stay in Normandy (until 1016) influenced him and his sons by Emma, who stayed in Normandy after Cnut the Great's conquest of the isle.\"]"
            ]
          },
          "execution_count": 37,
          "metadata": {},
          "output_type": "execute_result"
        }
      ],
      "source": [
        "paras=docssearch(textlist)\n",
        "paras.listsearch(['norman','duke'])"
      ]
    },
    {
      "cell_type": "code",
      "execution_count": 38,
      "metadata": {
        "colab": {
          "base_uri": "https://localhost:8080/"
        },
        "id": "32GLRoh9K-w0",
        "outputId": "de116160-6735-45ca-b26a-9d02f74fce5a"
      },
      "outputs": [
        {
          "name": "stdout",
          "output_type": "stream",
          "text": [
            "[(1031, 114.0579151691559), (1029, 91.24633213532474), (1, 11.405791516915592), (1076, 11.405791516915592)]\n"
          ]
        },
        {
          "data": {
            "text/plain": [
              "[\"Imperialism and colonialism both dictate the political and economic advantage over a land and the indigenous populations they control, yet scholars sometimes find it difficult to illustrate the difference between the two. Although imperialism and colonialism focus on the suppression of an other, if colonialism refers to the process of a country taking physical control of another, imperialism refers to the political and monetary dominance, either formally or informally. Colonialism is seen to be the architect deciding how to start dominating areas and then imperialism can be seen as creating the idea behind conquest cooperating with colonialism. Colonialism is when the imperial nation begins a conquest over an area and then eventually is able to rule over the areas the previous nation had controlled. Colonialism's core meaning is the exploitation of the valuable assets and supplies of the nation that was conquered and the conquering nation then gaining the benefits from the spoils of the war. The meaning of imperialism is to create an empire, by conquering the other state's lands and therefore increasing its own dominance. Colonialism is the builder and preserver of the colonial possessions in an area by a population coming from a foreign region. Colonialism can completely change the existing social structure, physical structure and economics of an area; it is not unusual that the characteristics of the conquering peoples are inherited by the conquered indigenous populations.\",\n",
              " '\"The word ‘empire’ comes from the Latin word imperium; for which the closest modern English equivalent would perhaps be ‘sovereignty’, or simply ‘rule’\". The greatest distinction of an empire is through the amount of land that a nation has conquered and expanded. Political power grew from conquering land, however cultural and economic aspects flourished through sea and trade routes. A distinction about empires is \"that although political empires were built mostly by expansion overland, economic and cultural influences spread at least as much by sea\". Some of the main aspects of trade that went overseas consisted of animals and plant products. European empires in Asia and Africa \"have come to be seen as the classic forms of imperialism: and indeed most books on the subject confine themselves to the European seaborne empires\". European expansion caused the world to be divided by how developed and developing nation are portrayed through the world systems theory. The two main regions are the core and the periphery. The core consists of high areas of income and profit; the periphery is on the opposing side of the spectrum consisting of areas of low income and profit. These critical theories of Geo-politics have led to increased discussion of the meaning and impact of imperialism on the modern post-colonial world. The Russian leader Lenin suggested that \"imperialism was the highest form of capitalism, claiming that imperialism developed after colonialism, and was distinguished from colonialism by monopoly capitalism\". This idea from Lenin stresses how important new political world order has become in our modern era. Geopolitics now focuses on states becoming major economic players in the market; some states today are viewed as empires due to their political and economic authority over other nations.',\n",
              " 'The Norman dynasty had a major political, cultural and military impact on medieval Europe and even the Near East. The Normans were famed for their martial spirit and eventually for their Christian piety, becoming exponents of the Catholic orthodoxy into which they assimilated. They adopted the Gallo-Romance language of the Frankish land they settled, their dialect becoming known as Norman, Normaund or Norman French, an important literary language. The Duchy of Normandy, which they formed by treaty with the French crown, was a great fief of medieval France, and under Richard I of Normandy was forged into a cohesive and formidable principality in feudal tenure. The Normans are noted both for their culture, such as their unique Romanesque architecture and musical traditions, and for their significant military accomplishments and innovations. Norman adventurers founded the Kingdom of Sicily under Roger II after conquering southern Italy on the Saracens and Byzantines, and an expedition on behalf of their duke, William the Conqueror, led to the Norman conquest of England at the Battle of Hastings in 1066. Norman cultural and military influence spread from these new European centres to the Crusader states of the Near East, where their prince Bohemond I founded the Principality of Antioch in the Levant, to Scotland and Wales in Great Britain, to Ireland, and to the coasts of north Africa and the Canary Islands.',\n",
              " 'After World War II, under a Communist regime set up by the conquering Soviets, the \"Bricks for Warsaw\" campaign was initiated, and large prefabricated housing projects were erected in Warsaw to address the housing shortage, along with other typical buildings of an Eastern Bloc city, such as the Palace of Culture and Science, a gift from the Soviet Union. The city resumed its role as the capital of Poland and the country\\'s centre of political and economic life. Many of the historic streets, buildings, and churches were restored to their original form. In 1980, Warsaw\\'s historic Old Town was inscribed onto UNESCO\\'s World Heritage list.']"
            ]
          },
          "execution_count": 38,
          "metadata": {},
          "output_type": "execute_result"
        }
      ],
      "source": [
        "paras.listsearch(['political','conquered'])"
      ]
    },
    {
      "cell_type": "markdown",
      "metadata": {
        "id": "-FLixxj8K-w0"
      },
      "source": [
        "## Extensions\n",
        "\n",
        "Implement one or more of the following extensions.\n",
        "\n",
        "### Extension 1\n",
        "\n",
        "In order to be able to answer natural language queries, it is also necessary to extract keywords from questions.\n",
        "\n",
        "You can use the `input()` function to take in a query from keyboard.  Use this together with the functionality you have already developed to make a prototype of a system which returns the most relevant paragraph to a given query. "
      ]
    },
    {
      "cell_type": "code",
      "execution_count": null,
      "metadata": {
        "id": "3KGP0BKnK-w0"
      },
      "outputs": [],
      "source": []
    },
    {
      "cell_type": "markdown",
      "metadata": {
        "id": "A7ucex1QK-w0"
      },
      "source": [
        "### Extension 2\n",
        "\n",
        "Find the sentences within a paragraph which are most relevant to a query.\n"
      ]
    },
    {
      "cell_type": "code",
      "execution_count": null,
      "metadata": {
        "id": "CYdhvRwwK-w0"
      },
      "outputs": [],
      "source": []
    },
    {
      "cell_type": "markdown",
      "metadata": {
        "id": "njm-QNsZK-w0"
      },
      "source": [
        "### Extension 3\n",
        "\n",
        "Build a classifier to determine whether a given query is answerable on the basis of a given relevant paragraph. \n",
        "\n",
        "You will need to use the `qalist` which has positive and negative examples of answerable questions for each paragraph.\n",
        "\n",
        "An instance is then a paragraph and an answer pair which has been labelled answerable or unanswerable.  You can extract features from both the paragraph and the answer (e.g., bags-of-words) and then make a representation of the instance by applying some operation to the two vectors e.g., addition, subtraction, multiplication or concatenation."
      ]
    },
    {
      "cell_type": "code",
      "execution_count": null,
      "metadata": {
        "id": "Xs6ROM6hK-w0"
      },
      "outputs": [],
      "source": []
    }
  ],
  "metadata": {
    "colab": {
      "provenance": []
    },
    "kernelspec": {
      "display_name": "Python 3 (ipykernel)",
      "language": "python",
      "name": "python3"
    },
    "language_info": {
      "codemirror_mode": {
        "name": "ipython",
        "version": 3
      },
      "file_extension": ".py",
      "mimetype": "text/x-python",
      "name": "python",
      "nbconvert_exporter": "python",
      "pygments_lexer": "ipython3",
      "version": "3.12.3"
    }
  },
  "nbformat": 4,
  "nbformat_minor": 0
}
