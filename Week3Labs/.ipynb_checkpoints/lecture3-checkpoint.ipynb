{
 "cells": [
  {
   "cell_type": "code",
   "execution_count": 3,
   "id": "651e2e99",
   "metadata": {},
   "outputs": [],
   "source": [
    "class Person():\n",
    "    def __init__(self,name,age,birthplace):\n",
    "        self.name=name\n",
    "        self.age=age\n",
    "        self.birthplace=birthplace\n",
    "        \n",
    "    def is_eligible(self,):\n",
    "        return self.age>17 and self.birthplace.lower()==\"brighton\"\n",
    "    "
   ]
  },
  {
   "cell_type": "code",
   "execution_count": 5,
   "id": "35e80589",
   "metadata": {},
   "outputs": [],
   "source": [
    "people=[]\n",
    "person1=Person(\"john\",12,\"brighton\")\n",
    "people.append(person1)\n",
    "person2=Person(\"diana\",19,\"brighton\")\n",
    "people.append(person2)\n",
    "person3=Person(\"bob\",20,\"london\")\n",
    "people.append(person3)"
   ]
  },
  {
   "cell_type": "code",
   "execution_count": 7,
   "id": "df5fd535",
   "metadata": {},
   "outputs": [
    {
     "name": "stdout",
     "output_type": "stream",
     "text": [
      "diana\n"
     ]
    }
   ],
   "source": [
    "for p in people:\n",
    "    if p.is_eligible():\n",
    "        print(p.name)"
   ]
  },
  {
   "cell_type": "code",
   "execution_count": null,
   "id": "5361d120",
   "metadata": {},
   "outputs": [],
   "source": [
    "class Student(Person):\n",
    "    def __init__(self,name,age,birthplace):\n",
    "        self.name=name\n",
    "        self.age=age\n",
    "        self.birthplace=birthplace\n",
    "        scores=[]\n",
    "        \n",
    "    def addscore(self,score):\n",
    "        self.scores.append(score)\n",
    "    \n",
    "    def averagescore(self):\n",
    "        if len(self.scores)>0:\n",
    "            return sum(self.scores)/len(self.scores)\n",
    "        else:\n",
    "            return 0\n",
    "        "
   ]
  }
 ],
 "metadata": {
  "kernelspec": {
   "display_name": "Python 3",
   "language": "python",
   "name": "python3"
  },
  "language_info": {
   "codemirror_mode": {
    "name": "ipython",
    "version": 3
   },
   "file_extension": ".py",
   "mimetype": "text/x-python",
   "name": "python",
   "nbconvert_exporter": "python",
   "pygments_lexer": "ipython3",
   "version": "3.7.4"
  }
 },
 "nbformat": 4,
 "nbformat_minor": 5
}
