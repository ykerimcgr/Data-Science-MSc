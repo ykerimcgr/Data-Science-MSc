{
 "cells": [
  {
   "cell_type": "markdown",
   "metadata": {
    "id": "swLDp-GV7iQg"
   },
   "source": [
    "# Week 3: Basic Document Classification (Part 1)"
   ]
  },
  {
   "cell_type": "markdown",
   "metadata": {
    "id": "aLh_fS4P7iQn"
   },
   "source": [
    "## Overview \n",
    "In labs this week (and next), the focus will be on the application of sentiment analysis. You will be using a corpus of **movie reviews**.\n",
    "\n",
    "You will be exploring various techniques that can be used to classify the sentiment of the movie reviews as either positive or negative. \n",
    "\n",
    "You will be developing your own **Word List** and **Naïve Bayes** classifiers and then comparing them to the **NLTK Naïve Bayes** classifier.\n",
    "\n",
    "First, we will need to download the movie_review corpus."
   ]
  },
  {
   "cell_type": "code",
   "execution_count": null,
   "metadata": {
    "colab": {
     "base_uri": "https://localhost:8080/"
    },
    "executionInfo": {
     "elapsed": 190,
     "status": "ok",
     "timestamp": 1633608836524,
     "user": {
      "displayName": "Julie Weeds",
      "photoUrl": "https://lh3.googleusercontent.com/a/default-user=s64",
      "userId": "13844540934373660130"
     },
     "user_tz": -60
    },
    "id": "3W2AdikDqe5G",
    "outputId": "09a883ae-ff87-4614-c768-54cbf75086d2"
   },
   "outputs": [],
   "source": [
    "import nltk\n",
    "nltk.download('movie_reviews')\n",
    "nltk.download('stopwords')"
   ]
  },
  {
   "cell_type": "markdown",
   "metadata": {
    "id": "Y0uVSM40qe5I"
   },
   "source": [
    "The movie_reviews corpus reader provides a number of useful methods:\n",
    "   * .categories()\n",
    "   * .fileids()\n",
    "   * .words()\n",
    "   \n",
    "First, we can use `.categories()` to check the set of labels with which the reviews have been labelled"
   ]
  },
  {
   "cell_type": "code",
   "execution_count": null,
   "metadata": {
    "colab": {
     "base_uri": "https://localhost:8080/"
    },
    "executionInfo": {
     "elapsed": 318,
     "status": "ok",
     "timestamp": 1633608690904,
     "user": {
      "displayName": "Julie Weeds",
      "photoUrl": "https://lh3.googleusercontent.com/a/default-user=s64",
      "userId": "13844540934373660130"
     },
     "user_tz": -60
    },
    "id": "N3bRgahNqe5J",
    "outputId": "1b4ffe87-116a-4c6a-dbd8-402be020dbd8"
   },
   "outputs": [],
   "source": [
    "from nltk.corpus import movie_reviews\n",
    "\n",
    "print(movie_reviews.categories())"
   ]
  },
  {
   "cell_type": "markdown",
   "metadata": {
    "id": "INtoThcCqe5J"
   },
   "source": [
    "We can use `.fileids()` to get all of the file names associated with a particular category."
   ]
  },
  {
   "cell_type": "code",
   "execution_count": null,
   "metadata": {
    "colab": {
     "base_uri": "https://localhost:8080/"
    },
    "executionInfo": {
     "elapsed": 8,
     "status": "ok",
     "timestamp": 1633608693935,
     "user": {
      "displayName": "Julie Weeds",
      "photoUrl": "https://lh3.googleusercontent.com/a/default-user=s64",
      "userId": "13844540934373660130"
     },
     "user_tz": -60
    },
    "id": "LZ00H5mdqe5K",
    "outputId": "72c81f08-5e09-48fb-ee28-edabf6b098b3"
   },
   "outputs": [],
   "source": [
    "pos_review_ids=movie_reviews.fileids('pos')\n",
    "neg_review_ids=movie_reviews.fileids('neg')\n",
    "\n",
    "print(\"The number of positive reviews is {}\".format(len(pos_review_ids)))\n",
    "print(\"The number of negative reviews is {}\".format(len(neg_review_ids)))"
   ]
  },
  {
   "cell_type": "markdown",
   "metadata": {
    "id": "XoHxpQ6Sqe5L"
   },
   "source": [
    "We can use `.words()` to get back word-tokenised reviews.  The argument to `.words()` is the file id of an individual review."
   ]
  },
  {
   "cell_type": "code",
   "execution_count": null,
   "metadata": {
    "colab": {
     "base_uri": "https://localhost:8080/"
    },
    "executionInfo": {
     "elapsed": 192,
     "status": "ok",
     "timestamp": 1633608699333,
     "user": {
      "displayName": "Julie Weeds",
      "photoUrl": "https://lh3.googleusercontent.com/a/default-user=s64",
      "userId": "13844540934373660130"
     },
     "user_tz": -60
    },
    "id": "KMvFYBPyqe5M",
    "outputId": "9c268cd8-2b57-4e12-f972-e2e0627ff987"
   },
   "outputs": [],
   "source": [
    "print(movie_reviews.words(pos_review_ids[0]))"
   ]
  },
  {
   "cell_type": "code",
   "execution_count": null,
   "metadata": {
    "colab": {
     "base_uri": "https://localhost:8080/"
    },
    "executionInfo": {
     "elapsed": 190,
     "status": "ok",
     "timestamp": 1633608702334,
     "user": {
      "displayName": "Julie Weeds",
      "photoUrl": "https://lh3.googleusercontent.com/a/default-user=s64",
      "userId": "13844540934373660130"
     },
     "user_tz": -60
    },
    "id": "68LWdfszqe5M",
    "outputId": "dc8508d7-cea0-4a4b-b0be-75589274c056"
   },
   "outputs": [],
   "source": [
    "type(movie_reviews.words(pos_review_ids[0]))"
   ]
  },
  {
   "cell_type": "markdown",
   "metadata": {
    "id": "LmkD_UEKqe5N"
   },
   "source": [
    "Note, the object returned by `movie_reviews.words()` looks a lot like a list (and behaves a lot like a list) - but it is actually a `StreamBackedCorpusView`.  This essentially means it is not necessarily all in memory  - it is retrieved from disk as needed.  If you want to see all of the words at once then you can convert it to a list using the `list()` constructor.  "
   ]
  },
  {
   "cell_type": "code",
   "execution_count": null,
   "metadata": {
    "colab": {
     "base_uri": "https://localhost:8080/"
    },
    "executionInfo": {
     "elapsed": 202,
     "status": "ok",
     "timestamp": 1633608711002,
     "user": {
      "displayName": "Julie Weeds",
      "photoUrl": "https://lh3.googleusercontent.com/a/default-user=s64",
      "userId": "13844540934373660130"
     },
     "user_tz": -60
    },
    "id": "XwmV4eh9qe5O",
    "outputId": "269f1303-8588-4d4c-d4c4-fc9899a7ba89"
   },
   "outputs": [],
   "source": [
    "print(list(movie_reviews.words(pos_review_ids[0])))"
   ]
  },
  {
   "cell_type": "code",
   "execution_count": null,
   "metadata": {
    "id": "tXWztGUZqe5P"
   },
   "outputs": [],
   "source": []
  },
  {
   "cell_type": "markdown",
   "metadata": {
    "id": "1gUYw61N7iQo"
   },
   "source": [
    "## Creating training and testing sets\n",
    "You will be training and testing various document classifiers. It is essential that the data used in the testing phase is not used during the training phase, since this can lead to overestimating performance. \n",
    "\n",
    "We now introduce the `split_data` function (defined in the cell below) which can be used to get separate **training** and **testing** sets.\n",
    "\n",
    "> Look through the code in the following cell, reading the comments and making sure that you understand each line."
   ]
  },
  {
   "cell_type": "code",
   "execution_count": null,
   "metadata": {
    "executionInfo": {
     "elapsed": 185,
     "status": "ok",
     "timestamp": 1633608728313,
     "user": {
      "displayName": "Julie Weeds",
      "photoUrl": "https://lh3.googleusercontent.com/a/default-user=s64",
      "userId": "13844540934373660130"
     },
     "user_tz": -60
    },
    "id": "HsMcMo5e7iQp"
   },
   "outputs": [],
   "source": [
    "import random # have a look at the documentation at https://docs.python.org/3/library/random.html \n",
    "\n",
    "\n",
    "def split_data(data, ratio=0.7): # when the second argument is not given, it defaults to 0.7\n",
    "    \"\"\"\n",
    "    Given collection of items and ratio:\n",
    "     - partitions the collection into training and testing, where the proportion in training is ratio,\n",
    "\n",
    "    :param data: A list (or generator) of documents or doc ids\n",
    "    :param ratio: The proportion of training documents (default 0.7)\n",
    "    :return: a pair (tuple) of lists where the first element of the \n",
    "            pair is a list of the training data and the second is a list of the test data.\n",
    "    \"\"\"\n",
    "    \n",
    "    n = len(data)  #Found out number of samples present.  data could be a list or a generator\n",
    "    train_indices = random.sample(range(n), int(n * ratio))          #Randomly select training indices\n",
    "    test_indices = list(set(range(n)) - set(train_indices))   #Other items are testing indices\n",
    " \n",
    "    train = [data[i] for i in train_indices]           #Use training indices to select data\n",
    "    test = [data[i] for i in test_indices]             #Use testing indices to select data\n",
    " \n",
    "    return (train, test)                       #Return split data\n",
    " "
   ]
  },
  {
   "cell_type": "markdown",
   "metadata": {
    "id": "iu1pTJhr7iQu"
   },
   "source": [
    "Now we can use this function to create training and testing data.  First, we need to create 4 lists:\n",
    "    * file ids  of positive docs to go in the training data\n",
    "    * file ids of positive docs to go in the testing data\n",
    "    * file ids of negative docs to go in the training data\n",
    "    * file ids of negative docs to go in the testing data"
   ]
  },
  {
   "cell_type": "code",
   "execution_count": null,
   "metadata": {
    "executionInfo": {
     "elapsed": 188,
     "status": "ok",
     "timestamp": 1633608731133,
     "user": {
      "displayName": "Julie Weeds",
      "photoUrl": "https://lh3.googleusercontent.com/a/default-user=s64",
      "userId": "13844540934373660130"
     },
     "user_tz": -60
    },
    "id": "QUVZGOpJ7iQv"
   },
   "outputs": [],
   "source": [
    "random.seed(41)  #set the random seeds so these random splits are always the same\n",
    "pos_train_ids, pos_test_ids = split_data(pos_review_ids)\n",
    "neg_train_ids, neg_test_ids = split_data(neg_review_ids)\n"
   ]
  },
  {
   "cell_type": "markdown",
   "metadata": {
    "id": "EQjhg51zqe5R"
   },
   "source": [
    "Now, we want to create our labelled data sets.   We need to associate each review with its label so that later we can shuffle up all of the training data (and the testing data)\n",
    "\n",
    "### Exercise 1\n",
    "Write some python code which will construct a training set (`training`) and a test set (`testing`) from the data.  Each set should be a list of pairs where each pair is a list of words and a label, as below:\n",
    "\n",
    "<code>[([list,of,words],'label'),([list,of,words],'label'),...]</code>\n",
    "\n",
    "Hint:  You can do this with 4 list comprehensions and list concatenation.\n",
    "\n",
    "Check the size of `training` and `testing`.  Using a 70\\% split, how many should be in each?"
   ]
  },
  {
   "cell_type": "code",
   "execution_count": null,
   "metadata": {
    "executionInfo": {
     "elapsed": 185,
     "status": "ok",
     "timestamp": 1633608755893,
     "user": {
      "displayName": "Julie Weeds",
      "photoUrl": "https://lh3.googleusercontent.com/a/default-user=s64",
      "userId": "13844540934373660130"
     },
     "user_tz": -60
    },
    "id": "yP5wctINNDUS"
   },
   "outputs": [],
   "source": []
  },
  {
   "cell_type": "code",
   "execution_count": null,
   "metadata": {
    "colab": {
     "base_uri": "https://localhost:8080/"
    },
    "executionInfo": {
     "elapsed": 7,
     "status": "ok",
     "timestamp": 1633608756520,
     "user": {
      "displayName": "Julie Weeds",
      "photoUrl": "https://lh3.googleusercontent.com/a/default-user=s64",
      "userId": "13844540934373660130"
     },
     "user_tz": -60
    },
    "id": "kA8AJhWLqe5S",
    "outputId": "43a23021-a019-4919-fcb5-7f24c29e7a79"
   },
   "outputs": [],
   "source": []
  },
  {
   "cell_type": "markdown",
   "metadata": {
    "id": "A3SLme3Oqe5S"
   },
   "source": [
    "## Document Representations\n",
    "\n",
    "Currently, each review / document is represented as a list of tokens.  In many simple applications, the order of words in a document is deemed irrelevant and we use a bag-of-words representation of the document.  We can create a bag-of-words using a dictionary (as we did in Lab_2_2 when considering the size of the vocabulary) or we can use a library function such as FreqDist from nltk.probability (or Counter from Collections).  In the cell below, I generate the bag-of-words for the first review in the training set using nltk's FreqDist.  You can think of this as like a dictionary but with extra benefits.  For example, later on in the lab, we will see it has useful methods which allow the document representations to be added and subtracted."
   ]
  },
  {
   "cell_type": "code",
   "execution_count": null,
   "metadata": {
    "colab": {
     "base_uri": "https://localhost:8080/"
    },
    "executionInfo": {
     "elapsed": 525,
     "status": "ok",
     "timestamp": 1633608763968,
     "user": {
      "displayName": "Julie Weeds",
      "photoUrl": "https://lh3.googleusercontent.com/a/default-user=s64",
      "userId": "13844540934373660130"
     },
     "user_tz": -60
    },
    "id": "zRTriMZIqe5S",
    "outputId": "76fecb28-850f-4239-857a-97f07c1df5e3"
   },
   "outputs": [],
   "source": [
    "from nltk.probability import FreqDist\n",
    "\n",
    "doc1 = FreqDist(training[0][0])\n",
    "doc1"
   ]
  },
  {
   "cell_type": "markdown",
   "metadata": {
    "id": "k4qdRQEeqe5T"
   },
   "source": [
    "### Exercise 2.1\n",
    "\n",
    "Write code to use FreqDist to construct a bag-of-words representation for each document in the training and testing sets.  Store the results in two lists, `training_basic` and `testing_basic`.  Don't lose the annotations as to whether each review is positive or negative!  "
   ]
  },
  {
   "cell_type": "code",
   "execution_count": null,
   "metadata": {
    "executionInfo": {
     "elapsed": 2849,
     "status": "ok",
     "timestamp": 1633608787302,
     "user": {
      "displayName": "Julie Weeds",
      "photoUrl": "https://lh3.googleusercontent.com/a/default-user=s64",
      "userId": "13844540934373660130"
     },
     "user_tz": -60
    },
    "id": "8Pesd-Rjqe5T"
   },
   "outputs": [],
   "source": []
  },
  {
   "cell_type": "code",
   "execution_count": null,
   "metadata": {
    "colab": {
     "base_uri": "https://localhost:8080/"
    },
    "executionInfo": {
     "elapsed": 10,
     "status": "ok",
     "timestamp": 1633608787306,
     "user": {
      "displayName": "Julie Weeds",
      "photoUrl": "https://lh3.googleusercontent.com/a/default-user=s64",
      "userId": "13844540934373660130"
     },
     "user_tz": -60
    },
    "id": "8-sFdi8Jqe5T",
    "outputId": "5af7b03a-2588-4de7-b2de-4af99e9dfc14"
   },
   "outputs": [],
   "source": []
  },
  {
   "cell_type": "markdown",
   "metadata": {
    "id": "vJd0x75aqe5U"
   },
   "source": [
    "You will notice of course that many of the words in your representations of documents are punctuation and stopwords.  This is because we haven't done any pre-processing of the wordlists.\n",
    "\n",
    "### Exercise 2.2\n",
    "\n",
    "Decide which of the following pre-processing steps to apply to the word lists:-\n",
    "* case normalisation\n",
    "* number normalisation\n",
    "* punctuation removal\n",
    "* stopword removal\n",
    "* stemmming / lemmatisation\n",
    "\n",
    "\n",
    "Apply these preprocessing steps to the original wordlist representations (stored in `training` and `testing`).  Then recreate the bag-of-words representations, storing the results in `training_norm` and `testing_norm`"
   ]
  },
  {
   "cell_type": "code",
   "execution_count": null,
   "metadata": {
    "colab": {
     "base_uri": "https://localhost:8080/"
    },
    "executionInfo": {
     "elapsed": 199,
     "status": "ok",
     "timestamp": 1633608847683,
     "user": {
      "displayName": "Julie Weeds",
      "photoUrl": "https://lh3.googleusercontent.com/a/default-user=s64",
      "userId": "13844540934373660130"
     },
     "user_tz": -60
    },
    "id": "DtkW4fzYqe5U",
    "outputId": "e3e2dba9-799a-4599-81a1-6ef5bb0db9a5"
   },
   "outputs": [],
   "source": []
  },
  {
   "cell_type": "code",
   "execution_count": null,
   "metadata": {
    "colab": {
     "base_uri": "https://localhost:8080/"
    },
    "executionInfo": {
     "elapsed": 5293,
     "status": "ok",
     "timestamp": 1633608866497,
     "user": {
      "displayName": "Julie Weeds",
      "photoUrl": "https://lh3.googleusercontent.com/a/default-user=s64",
      "userId": "13844540934373660130"
     },
     "user_tz": -60
    },
    "id": "FLx5ja1aqe5U",
    "outputId": "578d2d71-4120-4185-9667-aee2af26127d"
   },
   "outputs": [],
   "source": []
  },
  {
   "cell_type": "markdown",
   "metadata": {
    "id": "FTGHJWSd7iQ5"
   },
   "source": [
    "## Creating word lists\n",
    "The next section will explain how to use a sentiment classifier that bases its decisions on word lists. The classifier requires a list of words indicating positive sentiment, and a second list of words indicating negative sentiment. Given positive and negative word lists, a document's overall sentiment is determined based on counts of occurrences of words that occur in the two lists. In this section we are concerned with the creation of the word lists. We will be considering both hand-crafted lists and automatically generated lists."
   ]
  },
  {
   "cell_type": "markdown",
   "metadata": {
    "id": "572x5pEP7iQ6"
   },
   "source": [
    "### Exercise 3.1\n",
    "\n",
    "- Create a reasonably long hand-crafted list of words that you think indicate positive sentiment.\n",
    "- Create a reasonably long hand-crafted list of words that indicate negative sentiment.\n",
    "\n",
    "Use the following cells to store these lists in the variables `my_positive_word_list` and `my_negative_word_list`."
   ]
  },
  {
   "cell_type": "code",
   "execution_count": null,
   "metadata": {
    "executionInfo": {
     "elapsed": 233,
     "status": "ok",
     "timestamp": 1633608876499,
     "user": {
      "displayName": "Julie Weeds",
      "photoUrl": "https://lh3.googleusercontent.com/a/default-user=s64",
      "userId": "13844540934373660130"
     },
     "user_tz": -60
    },
    "id": "RPzluDd-7iQ6"
   },
   "outputs": [],
   "source": [
    "my_positive_word_list = [\"good\",\"great\",\"lovely\"] # extend this one or put your own list here\n",
    "my_negative_word_list = [\"bad\", \"terrible\", \"awful\"] # extend this one or put your own list here"
   ]
  },
  {
   "cell_type": "markdown",
   "metadata": {
    "id": "9nQhC0Zaqe5W"
   },
   "source": [
    "Now lets see how often each of those words occurs in total in our positive and negative training data.  First, lets create a total of the FreqDists for positive data and for negative data.  As these are FreqDists (rather than simple dictionaries), we can do this as follows:"
   ]
  },
  {
   "cell_type": "code",
   "execution_count": null,
   "metadata": {
    "colab": {
     "base_uri": "https://localhost:8080/"
    },
    "executionInfo": {
     "elapsed": 2058,
     "status": "ok",
     "timestamp": 1633608883704,
     "user": {
      "displayName": "Julie Weeds",
      "photoUrl": "https://lh3.googleusercontent.com/a/default-user=s64",
      "userId": "13844540934373660130"
     },
     "user_tz": -60
    },
    "id": "7Tg_0bttqe5X",
    "outputId": "c8c6c20b-b2ba-443f-ab16-a7f13989412c"
   },
   "outputs": [],
   "source": [
    "pos_freq_dist=FreqDist()\n",
    "neg_freq_dist=FreqDist()\n",
    "\n",
    "for reviewDist,label in training_norm:\n",
    "    if label=='pos':\n",
    "        pos_freq_dist+=reviewDist\n",
    "    else:\n",
    "        neg_freq_dist+=reviewDist\n",
    "        \n",
    "pos_freq_dist"
   ]
  },
  {
   "cell_type": "code",
   "execution_count": null,
   "metadata": {
    "id": "JNUtrGjVqe5Y"
   },
   "outputs": [],
   "source": []
  },
  {
   "cell_type": "markdown",
   "metadata": {
    "id": "RW9BMqP37iRH"
   },
   "source": [
    "### Exercise 3.2\n",
    "In the blank code cell below write code that uses the total frequency distributions `pos_freq_dist` and `neg_freq_dist` and the word lists `my_positive_word_list` and `my_negative_word_list` created earlier to determine whether or not the review data conforms to your expectations. In particular, whether:\n",
    "- the words you expected to indicate positive sentiment actually occur more frequently in positive reviews than negative reviews\n",
    "- the words you expected to indicate negative sentiment actually occur more frequently in negative reviews than positive reviews.\n",
    "\n",
    "You could display your findings in a table using pandas."
   ]
  },
  {
   "cell_type": "code",
   "execution_count": null,
   "metadata": {
    "executionInfo": {
     "elapsed": 318,
     "status": "ok",
     "timestamp": 1633608893391,
     "user": {
      "displayName": "Julie Weeds",
      "photoUrl": "https://lh3.googleusercontent.com/a/default-user=s64",
      "userId": "13844540934373660130"
     },
     "user_tz": -60
    },
    "id": "JPRJHuET7iRH"
   },
   "outputs": [],
   "source": [
    "\n",
    "        \n",
    "        "
   ]
  },
  {
   "cell_type": "code",
   "execution_count": null,
   "metadata": {
    "colab": {
     "base_uri": "https://localhost:8080/"
    },
    "executionInfo": {
     "elapsed": 183,
     "status": "ok",
     "timestamp": 1633608896088,
     "user": {
      "displayName": "Julie Weeds",
      "photoUrl": "https://lh3.googleusercontent.com/a/default-user=s64",
      "userId": "13844540934373660130"
     },
     "user_tz": -60
    },
    "id": "b4aR84LE7iRL",
    "outputId": "2f159b33-19c5-476b-fba1-726c36a64f59"
   },
   "outputs": [],
   "source": []
  },
  {
   "cell_type": "code",
   "execution_count": null,
   "metadata": {
    "colab": {
     "base_uri": "https://localhost:8080/"
    },
    "executionInfo": {
     "elapsed": 7,
     "status": "ok",
     "timestamp": 1633608897055,
     "user": {
      "displayName": "Julie Weeds",
      "photoUrl": "https://lh3.googleusercontent.com/a/default-user=s64",
      "userId": "13844540934373660130"
     },
     "user_tz": -60
    },
    "id": "bkfwFU4v7iRO",
    "outputId": "8241f257-ddd8-40fb-fd3f-a0ba19d4f9df"
   },
   "outputs": [],
   "source": []
  },
  {
   "cell_type": "code",
   "execution_count": null,
   "metadata": {
    "colab": {
     "base_uri": "https://localhost:8080/",
     "height": 300
    },
    "executionInfo": {
     "elapsed": 188,
     "status": "ok",
     "timestamp": 1633608898115,
     "user": {
      "displayName": "Julie Weeds",
      "photoUrl": "https://lh3.googleusercontent.com/a/default-user=s64",
      "userId": "13844540934373660130"
     },
     "user_tz": -60
    },
    "id": "OefXeFaKqe5b",
    "outputId": "6a445df4-8e32-4a74-b614-691090ccca0b"
   },
   "outputs": [],
   "source": []
  },
  {
   "cell_type": "markdown",
   "metadata": {
    "id": "8bXExCJp7iRS"
   },
   "source": [
    "### Exercise 3.3\n",
    "Now, you are going to create positive and negative word lists automatically from the training data. In order to do this:\n",
    "\n",
    "1. write two new functions to help with automating the process of generating wordlists.\n",
    "\n",
    "    - `most_frequent_words` - this function should take THREE arguments: 2 frequency distributions and a natural number, k. It should order words by how much more they occur in one frequency distribution than the other.   It should then return the top k highest scoring words. You might want to use the `most_common` method from the `FreqDist` class - this returns a list of word, frequency pairs ordered by frequency.  You might also or alternatively want to use pythons built-in `sorted` function\n",
    "    - `words_above_threshold` - this function also takes three arguments: 2 frequency distributions and a natural number, k. Again, it should order words by how much more they occur in one distribution than the other.  It should return all of the words that have a score greater than k.\n",
    "\n",
    "2. Using the training data, create two sets of positive and negative word lists using these functions (1 set with each function). \n",
    "3.  Display these 4 lists (possibly in a `Pandas` dataframe?)\n",
    "\n"
   ]
  },
  {
   "cell_type": "code",
   "execution_count": null,
   "metadata": {
    "executionInfo": {
     "elapsed": 185,
     "status": "ok",
     "timestamp": 1633608918288,
     "user": {
      "displayName": "Julie Weeds",
      "photoUrl": "https://lh3.googleusercontent.com/a/default-user=s64",
      "userId": "13844540934373660130"
     },
     "user_tz": -60
    },
    "id": "o6hw9SFM7iRY"
   },
   "outputs": [],
   "source": []
  },
  {
   "cell_type": "code",
   "execution_count": null,
   "metadata": {
    "colab": {
     "base_uri": "https://localhost:8080/"
    },
    "executionInfo": {
     "elapsed": 471,
     "status": "ok",
     "timestamp": 1633608920761,
     "user": {
      "displayName": "Julie Weeds",
      "photoUrl": "https://lh3.googleusercontent.com/a/default-user=s64",
      "userId": "13844540934373660130"
     },
     "user_tz": -60
    },
    "id": "jtwxYJmQ7iRb",
    "outputId": "fee9f014-069a-4c14-a2e0-3dce05421a10"
   },
   "outputs": [],
   "source": []
  },
  {
   "cell_type": "code",
   "execution_count": null,
   "metadata": {
    "colab": {
     "base_uri": "https://localhost:8080/"
    },
    "executionInfo": {
     "elapsed": 195,
     "status": "ok",
     "timestamp": 1633608922493,
     "user": {
      "displayName": "Julie Weeds",
      "photoUrl": "https://lh3.googleusercontent.com/a/default-user=s64",
      "userId": "13844540934373660130"
     },
     "user_tz": -60
    },
    "id": "kP84olqo7iRf",
    "outputId": "ddd49315-35a0-40f1-cd1f-424b1acca7cc"
   },
   "outputs": [],
   "source": []
  },
  {
   "cell_type": "code",
   "execution_count": null,
   "metadata": {
    "executionInfo": {
     "elapsed": 306,
     "status": "ok",
     "timestamp": 1633608928311,
     "user": {
      "displayName": "Julie Weeds",
      "photoUrl": "https://lh3.googleusercontent.com/a/default-user=s64",
      "userId": "13844540934373660130"
     },
     "user_tz": -60
    },
    "id": "ABq5Sb0j_j2p"
   },
   "outputs": [],
   "source": []
  },
  {
   "cell_type": "code",
   "execution_count": null,
   "metadata": {
    "colab": {
     "base_uri": "https://localhost:8080/"
    },
    "executionInfo": {
     "elapsed": 187,
     "status": "ok",
     "timestamp": 1633608935597,
     "user": {
      "displayName": "Julie Weeds",
      "photoUrl": "https://lh3.googleusercontent.com/a/default-user=s64",
      "userId": "13844540934373660130"
     },
     "user_tz": -60
    },
    "id": "idr8XYkWAmfl",
    "outputId": "a4c8db2b-9e3a-4ec6-8d57-45447f33a8b3"
   },
   "outputs": [],
   "source": []
  },
  {
   "cell_type": "code",
   "execution_count": null,
   "metadata": {
    "colab": {
     "base_uri": "https://localhost:8080/"
    },
    "executionInfo": {
     "elapsed": 189,
     "status": "ok",
     "timestamp": 1633608941475,
     "user": {
      "displayName": "Julie Weeds",
      "photoUrl": "https://lh3.googleusercontent.com/a/default-user=s64",
      "userId": "13844540934373660130"
     },
     "user_tz": -60
    },
    "id": "FaqsrbFTAmwI",
    "outputId": "5ae0a2a3-2e68-44e6-d8a1-614cdb754096"
   },
   "outputs": [],
   "source": []
  },
  {
   "cell_type": "markdown",
   "metadata": {
    "id": "xzVP-hJH7iRi"
   },
   "source": [
    "## Creating a word list based classifier\n",
    "Now you have a number of word lists for use with a classifier. \n",
    "> Make sure you understand the following code, which will be used as the basis for creating a word list based classifier."
   ]
  },
  {
   "cell_type": "code",
   "execution_count": null,
   "metadata": {
    "colab": {
     "base_uri": "https://localhost:8080/",
     "height": 35
    },
    "executionInfo": {
     "elapsed": 183,
     "status": "ok",
     "timestamp": 1633608949777,
     "user": {
      "displayName": "Julie Weeds",
      "photoUrl": "https://lh3.googleusercontent.com/a/default-user=s64",
      "userId": "13844540934373660130"
     },
     "user_tz": -60
    },
    "id": "CSaLWU_A7iRi",
    "outputId": "4f5438d0-1bba-4177-cc7e-502cdacd1201"
   },
   "outputs": [],
   "source": [
    "from nltk.classify.api import ClassifierI\n",
    "import random\n",
    "\n",
    "class SimpleClassifier(ClassifierI): \n",
    "\n",
    "    def __init__(self, pos, neg): \n",
    "        self._pos = pos \n",
    "        self._neg = neg \n",
    "\n",
    "    def classify(self, words): \n",
    "        score = 0\n",
    "        \n",
    "        # add code here that assigns an appropriate value to score\n",
    "        return \"neg\" if score < 0 else \"pos\"\n",
    "\n",
    "    ##we don't actually need to define the classify_many method as it is provided in ClassifierI\n",
    "    #def classify_many(self, docs): \n",
    "    #    return [self.classify(doc) for doc in docs] \n",
    "\n",
    "    def labels(self): \n",
    "        return (\"pos\", \"neg\")\n",
    "\n",
    "#Example usage:\n",
    "\n",
    "classifier = SimpleClassifier(my_positive_word_list, my_negative_word_list)\n",
    "classifier.classify(FreqDist(\"This movie was great\".split()))"
   ]
  },
  {
   "cell_type": "markdown",
   "metadata": {
    "id": "irq5PVOc7iRl"
   },
   "source": [
    "### Exercise 3.1\n",
    "\n",
    "- Copy the above code cell and move it to below this one. Then complete the `classify` method in the above code as specified below.\n",
    "- Test your classifier on several very simple hand-crafted examples to verify that you have implemented `classify` correctly.\n",
    "\n",
    "The classifier is initialised with a list of positive words, and a list of negative words. The words of a document are passed to the `classify` method (which is partially completed in the above code fragment). The `classify` method should be defined so that each occurrence of a negative word decrements `score`, and each occurrence of a positive word increments `score`. \n",
    "- For `score` less than 0, an \"`N`\" for negative should be returned.\n",
    "- For `score` greater than 0,  \"`P`\" for positive should returned.\n",
    "- For `score` of 0, the classification decision should be made randomly (see https://docs.python.org/3/library/random.html).\n"
   ]
  },
  {
   "cell_type": "code",
   "execution_count": null,
   "metadata": {
    "colab": {
     "base_uri": "https://localhost:8080/",
     "height": 35
    },
    "executionInfo": {
     "elapsed": 189,
     "status": "ok",
     "timestamp": 1633608955437,
     "user": {
      "displayName": "Julie Weeds",
      "photoUrl": "https://lh3.googleusercontent.com/a/default-user=s64",
      "userId": "13844540934373660130"
     },
     "user_tz": -60
    },
    "id": "0UXUyFHM7iRm",
    "outputId": "3626bc89-636f-4950-a93e-d6d96253963b"
   },
   "outputs": [],
   "source": []
  },
  {
   "cell_type": "markdown",
   "metadata": {
    "collapsed": true,
    "id": "GRJWPhUF7iRo"
   },
   "source": [
    "### Exercise 3.2\n",
    "* Extend your SimpleClassifier class so that it has a `train` function which will derive the wordlists from training data.  You could build a separate class for each way of automatically deriving wordlists (which both inherit from SimpleClassifier) OR a single class which takes an extra parameter at training time."
   ]
  },
  {
   "cell_type": "code",
   "execution_count": null,
   "metadata": {
    "executionInfo": {
     "elapsed": 245,
     "status": "ok",
     "timestamp": 1633608963180,
     "user": {
      "displayName": "Julie Weeds",
      "photoUrl": "https://lh3.googleusercontent.com/a/default-user=s64",
      "userId": "13844540934373660130"
     },
     "user_tz": -60
    },
    "id": "KT1PbIao7iRp"
   },
   "outputs": [],
   "source": []
  },
  {
   "cell_type": "code",
   "execution_count": null,
   "metadata": {
    "executionInfo": {
     "elapsed": 2,
     "status": "ok",
     "timestamp": 1633608964420,
     "user": {
      "displayName": "Julie Weeds",
      "photoUrl": "https://lh3.googleusercontent.com/a/default-user=s64",
      "userId": "13844540934373660130"
     },
     "user_tz": -60
    },
    "id": "h85qqrOV7iRr"
   },
   "outputs": [],
   "source": []
  },
  {
   "cell_type": "code",
   "execution_count": null,
   "metadata": {
    "executionInfo": {
     "elapsed": 2081,
     "status": "ok",
     "timestamp": 1633608967598,
     "user": {
      "displayName": "Julie Weeds",
      "photoUrl": "https://lh3.googleusercontent.com/a/default-user=s64",
      "userId": "13844540934373660130"
     },
     "user_tz": -60
    },
    "id": "3uM8En0_7iRu"
   },
   "outputs": [],
   "source": []
  },
  {
   "cell_type": "markdown",
   "metadata": {
    "id": "1fWoIb8dDYzR"
   },
   "source": [
    "Try out your classifier on the test data.  We will look at how to evaluate classifiers in the next part, but in an ideal world, most of the positive test items will have been classified as 'P' and most of the negative test items will have been classified as 'N'.  Note that the batch_classify method takes a list of unlabelled documents so you can't give it a list of pairs (where each pair is doc and a label).  You can either use a list comprehension or the <code>zip(*list_of_pairs)</code> function to split a list of pairs into a pair of lists."
   ]
  },
  {
   "cell_type": "code",
   "execution_count": null,
   "metadata": {
    "colab": {
     "base_uri": "https://localhost:8080/",
     "height": 35
    },
    "executionInfo": {
     "elapsed": 189,
     "status": "ok",
     "timestamp": 1633608970973,
     "user": {
      "displayName": "Julie Weeds",
      "photoUrl": "https://lh3.googleusercontent.com/a/default-user=s64",
      "userId": "13844540934373660130"
     },
     "user_tz": -60
    },
    "id": "s6fQs92SVu39",
    "outputId": "798a7b95-6886-43f1-c8ce-d2824798520c"
   },
   "outputs": [],
   "source": []
  },
  {
   "cell_type": "code",
   "execution_count": null,
   "metadata": {
    "colab": {
     "base_uri": "https://localhost:8080/"
    },
    "executionInfo": {
     "elapsed": 572,
     "status": "ok",
     "timestamp": 1633608972906,
     "user": {
      "displayName": "Julie Weeds",
      "photoUrl": "https://lh3.googleusercontent.com/a/default-user=s64",
      "userId": "13844540934373660130"
     },
     "user_tz": -60
    },
    "id": "vFCEF0rx7iRx",
    "outputId": "1c69544a-c8c3-4b72-91aa-0ae944d445a9"
   },
   "outputs": [],
   "source": []
  },
  {
   "cell_type": "code",
   "execution_count": null,
   "metadata": {
    "executionInfo": {
     "elapsed": 6,
     "status": "ok",
     "timestamp": 1633608972907,
     "user": {
      "displayName": "Julie Weeds",
      "photoUrl": "https://lh3.googleusercontent.com/a/default-user=s64",
      "userId": "13844540934373660130"
     },
     "user_tz": -60
    },
    "id": "Us0zxFpsqe5g"
   },
   "outputs": [],
   "source": []
  },
  {
   "cell_type": "code",
   "execution_count": null,
   "metadata": {
    "executionInfo": {
     "elapsed": 2405,
     "status": "ok",
     "timestamp": 1633608975930,
     "user": {
      "displayName": "Julie Weeds",
      "photoUrl": "https://lh3.googleusercontent.com/a/default-user=s64",
      "userId": "13844540934373660130"
     },
     "user_tz": -60
    },
    "id": "i9MTBKOuDPU9"
   },
   "outputs": [],
   "source": []
  },
  {
   "cell_type": "code",
   "execution_count": null,
   "metadata": {
    "colab": {
     "base_uri": "https://localhost:8080/"
    },
    "executionInfo": {
     "elapsed": 322,
     "status": "ok",
     "timestamp": 1633608976248,
     "user": {
      "displayName": "Julie Weeds",
      "photoUrl": "https://lh3.googleusercontent.com/a/default-user=s64",
      "userId": "13844540934373660130"
     },
     "user_tz": -60
    },
    "id": "yuS6Urkaqe5g",
    "outputId": "6dab290c-d039-4c14-80bc-f39173b3057e"
   },
   "outputs": [],
   "source": []
  },
  {
   "cell_type": "code",
   "execution_count": null,
   "metadata": {
    "id": "nphj7NkSqe5g"
   },
   "outputs": [],
   "source": []
  }
 ],
 "metadata": {
  "colab": {
   "collapsed_sections": [],
   "name": "Lab_3_1_SOLUTIONS.ipynb",
   "provenance": []
  },
  "kernelspec": {
   "display_name": "Python 3",
   "language": "python",
   "name": "python3"
  },
  "language_info": {
   "codemirror_mode": {
    "name": "ipython",
    "version": 3
   },
   "file_extension": ".py",
   "mimetype": "text/x-python",
   "name": "python",
   "nbconvert_exporter": "python",
   "pygments_lexer": "ipython3",
   "version": "3.7.4"
  }
 },
 "nbformat": 4,
 "nbformat_minor": 1
}
