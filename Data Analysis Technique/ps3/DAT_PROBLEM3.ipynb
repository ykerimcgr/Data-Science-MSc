{
 "cells": [
  {
   "cell_type": "markdown",
   "id": "b7d0ad23-d88a-493f-9d48-ac6e44779c65",
   "metadata": {},
   "source": [
    "### Q1"
   ]
  },
  {
   "cell_type": "markdown",
   "id": "29673700-f127-4626-87f5-4ee15fe13515",
   "metadata": {},
   "source": [
    "Confidence level in the context of the chi-square statistic represents the probability of the fact that the observed data correspond to the fitted model for the given degrees of freedom."
   ]
  },
  {
   "cell_type": "markdown",
   "id": "ac4e86e2-f588-4e67-9ec6-5d8ac7685f93",
   "metadata": {},
   "source": [
    "First case"
   ]
  },
  {
   "cell_type": "code",
   "execution_count": 20,
   "id": "1c4c07bf-f6cb-4a93-86ff-b3dc091655d5",
   "metadata": {},
   "outputs": [
    {
     "name": "stdout",
     "output_type": "stream",
     "text": [
      "The Confidence level is 9.96%\n"
     ]
    }
   ],
   "source": [
    "from scipy.stats import chi2\n",
    "\n",
    "chi_square_value = 16\n",
    "\n",
    "degrees_of_freedom = 13-3 #Because Quadratic Second Order\n",
    "\n",
    "confidence_level = 1 - chi2.cdf(chi_square_value, degrees_of_freedom)\n",
    "\n",
    "print(\"The Confidence level is {:.2%}\".format(confidence_level))"
   ]
  },
  {
   "cell_type": "markdown",
   "id": "f9fff3f9-d5c3-4952-9432-656e96ad49c0",
   "metadata": {},
   "source": [
    "Second Case"
   ]
  },
  {
   "cell_type": "code",
   "execution_count": 21,
   "id": "0078ef2f-c6ca-4b8f-92f7-c64e3bfd7ae1",
   "metadata": {},
   "outputs": [
    {
     "name": "stdout",
     "output_type": "stream",
     "text": [
      "The Confidence level is 98.97%\n"
     ]
    }
   ],
   "source": [
    "chi_square_per_dof = 0.5\n",
    "\n",
    "degrees_of_freedom_2 = 30\n",
    "\n",
    "chi_square_value_2 = chi_square_per_dof * degrees_of_freedom_2\n",
    "\n",
    "confidence_level_2 = 1 - chi2.cdf(chi_square_value_2, degrees_of_freedom_2)\n",
    "\n",
    "print(\"The Confidence level is {:.2%}\".format(confidence_level_2))"
   ]
  },
  {
   "cell_type": "markdown",
   "id": "b5e523d3-0d94-4608-8eab-4ad5a137386a",
   "metadata": {},
   "source": [
    "Because confidence level is 98.97% which is really high. This means that the model fit the data too well. On the other hand, chi-square per degrees of freedom below 1 (0.5) might suggest that the error bars overestimated."
   ]
  },
  {
   "cell_type": "markdown",
   "id": "c636f4f1-159c-4037-ae03-f10986b90e51",
   "metadata": {},
   "source": [
    "### Q2"
   ]
  },
  {
   "cell_type": "markdown",
   "id": "daa85f2b-0eb2-4ff4-afba-078c40072ff2",
   "metadata": {},
   "source": [
    "HO=The two groups have the same mean."
   ]
  },
  {
   "cell_type": "markdown",
   "id": "456f4c06-e01c-48f7-a032-b3fb9e741ed3",
   "metadata": {},
   "source": [
    "H1=The two groups have different means."
   ]
  },
  {
   "cell_type": "code",
   "execution_count": 22,
   "id": "b2484015-ba12-4dfb-bad6-4d072622f9d3",
   "metadata": {},
   "outputs": [
    {
     "name": "stdout",
     "output_type": "stream",
     "text": [
      "The average of Group 1 is  59\n",
      "The average of Group 2 is  50.6\n"
     ]
    }
   ],
   "source": [
    "import statistics\n",
    "\n",
    "group1=[71, 59, 50, 51, 63, 60] \n",
    "group2=[46, 41, 68, 53, 47, 49, 35, 49, 54, 64]\n",
    "\n",
    "mean_group1 = statistics.mean(group1)\n",
    "mean_group2 = statistics.mean(group2)\n",
    "print(\"The average of Group 1 is \",mean_group1)\n",
    "print(\"The average of Group 2 is \",mean_group2)"
   ]
  },
  {
   "cell_type": "code",
   "execution_count": 23,
   "id": "fa4c67fd-75a0-443b-8368-da4458d5b5c9",
   "metadata": {},
   "outputs": [
    {
     "name": "stdout",
     "output_type": "stream",
     "text": [
      "The standard deviatian of Group 1 is 7.82\n",
      "The standard deviatian Group 2 is 9.86\n"
     ]
    }
   ],
   "source": [
    "std_group1 = statistics.stdev(group1)\n",
    "std_group2 = statistics.stdev(group2)\n",
    "print(\"The standard deviatian of Group 1 is {:.2f}\".format(std_group1))\n",
    "print(\"The standard deviatian Group 2 is {:.2f}\".format(std_group2))"
   ]
  },
  {
   "cell_type": "code",
   "execution_count": 24,
   "id": "f182de6f-b461-4bd5-a381-810c4e3f03ab",
   "metadata": {},
   "outputs": [
    {
     "name": "stdout",
     "output_type": "stream",
     "text": [
      "Lenght of the group 1 is 6\n",
      "Lenght of the group 2 is 10\n"
     ]
    }
   ],
   "source": [
    "n1=len(group1) \n",
    "n2=len(group2)\n",
    "print((\"Lenght of the group 1 is\"),n1)\n",
    "print((\"Lenght of the group 2 is\"),n2)"
   ]
  },
  {
   "cell_type": "code",
   "execution_count": 25,
   "id": "5c537eff-c585-4746-a45e-2506c894f958",
   "metadata": {},
   "outputs": [],
   "source": [
    "def S(n1,std_group1,n2,std_group2): \n",
    "  s_square=((n1-1)*(std_group1**2) + (n2-1)*(std_group2**2))/(n1+n2-2) \n",
    "  return s_square**(1/2) "
   ]
  },
  {
   "cell_type": "code",
   "execution_count": 26,
   "id": "f5bb1b55-093d-4658-bc89-fb98a5b32fcd",
   "metadata": {},
   "outputs": [
    {
     "name": "stdout",
     "output_type": "stream",
     "text": [
      "Standard Deviation: 9.18\n"
     ]
    }
   ],
   "source": [
    "s=S(n1,std_group1,n2,std_group2) \n",
    "print(\"Standard Deviation: {:.2f}\".format(s)) "
   ]
  },
  {
   "cell_type": "code",
   "execution_count": 27,
   "id": "27762c83-256c-44d8-8482-4263871292a9",
   "metadata": {},
   "outputs": [],
   "source": [
    "def t_score(x_bar,y_bar,s,n1,n2): \n",
    "  res=(x_bar-y_bar)/(s*(((1/n1)+(1/n2))**(1/2))) \n",
    "  return res"
   ]
  },
  {
   "cell_type": "code",
   "execution_count": 28,
   "id": "ea749019-dd89-43cc-a315-0569cc2cf447",
   "metadata": {},
   "outputs": [
    {
     "name": "stdout",
     "output_type": "stream",
     "text": [
      "t-score: 1.77\n"
     ]
    }
   ],
   "source": [
    "t=t_score(mean_group1,mean_group2,s,n1,n2) \n",
    "print(\"t-score: {:.2f}\".format(t))"
   ]
  },
  {
   "cell_type": "code",
   "execution_count": 29,
   "id": "6a7139aa-1e6a-4051-a481-4b962915abbb",
   "metadata": {},
   "outputs": [
    {
     "name": "stdout",
     "output_type": "stream",
     "text": [
      "Degree of freedom is 14\n"
     ]
    }
   ],
   "source": [
    "degrees_of_freedom=n1+n2-2 \n",
    "print(\"Degree of freedom is {}\".format(degrees_of_freedom))"
   ]
  },
  {
   "cell_type": "markdown",
   "id": "4dd0d922-8b14-40b7-b068-77e312b02fef",
   "metadata": {},
   "source": [
    "When I look at the table of significance level for two tails t table(In module resources in canvas)\n",
    "Degrees of freedom is 14. \n",
    "Critical value at 0.05 significance level is 2.145"
   ]
  },
  {
   "cell_type": "code",
   "execution_count": 30,
   "id": "06914919-3ab6-4593-9290-b4aa2c287005",
   "metadata": {},
   "outputs": [
    {
     "name": "stdout",
     "output_type": "stream",
     "text": [
      "There is no enough evidence to reject the null hypothesis at 0.05 significance level\n"
     ]
    }
   ],
   "source": [
    "t_crit = 2.145\n",
    "\n",
    "def t_hypothesis(t_actual,t_critic): \n",
    "  if t<=t_crit: \n",
    "    print(\"There is no enough evidence to reject the null hypothesis at 0.05 significance level\") \n",
    "  else: \n",
    "    print(\"The null hypothesis can be rejected at 0.05 significance level\") \n",
    "t_hypothesis(t,t_crit)"
   ]
  },
  {
   "cell_type": "markdown",
   "id": "0fa78416-82e2-4705-966b-d874c56ae1dd",
   "metadata": {},
   "source": [
    "Therefore, they are not distinguishable."
   ]
  },
  {
   "cell_type": "markdown",
   "id": "8ad51a94-fbd7-4859-8a31-9dcbaa8a000c",
   "metadata": {},
   "source": [
    "### Q3"
   ]
  },
  {
   "cell_type": "markdown",
   "id": "8c1f75d8-4921-4fc5-b58a-f7313d6180a6",
   "metadata": {},
   "source": [
    "H0:Poisson distribution provides good fit"
   ]
  },
  {
   "cell_type": "markdown",
   "id": "44453459-a136-4dd1-81d9-12445051e543",
   "metadata": {},
   "source": [
    "H1:Poisson distribution does not provide good fit"
   ]
  },
  {
   "cell_type": "code",
   "execution_count": 31,
   "id": "39f4f00f-00c1-437e-a665-b947eacee96a",
   "metadata": {},
   "outputs": [
    {
     "name": "stdout",
     "output_type": "stream",
     "text": [
      "Mean number of events: 1.113\n"
     ]
    }
   ],
   "source": [
    "import math\n",
    "number_of_events=[0,1,2,3,4,5,6] \n",
    "frequency=[320,387,189,76,22,4,2] \n",
    "\n",
    "alist=[] \n",
    "for (i,j) in zip(number_of_events,frequency): \n",
    "    alist.append(i*j) \n",
    "\n",
    "mean_num_events = sum(alist)/sum(frequency) \n",
    "print(\"Mean number of events: {}\".format(mean_num_events)) "
   ]
  },
  {
   "cell_type": "code",
   "execution_count": 32,
   "id": "a286fa6f-8198-4813-98fe-01cdef791ef7",
   "metadata": {},
   "outputs": [
    {
     "name": "stdout",
     "output_type": "stream",
     "text": [
      "Poisson probabilities & Expected frequencies for each event:\n",
      "0= probability: 0.329 & Expected frequency: 328.572\n",
      "1= probability: 0.366 & Expected frequency: 365.700\n",
      "2= probability: 0.204 & Expected frequency: 203.512\n",
      "3= probability: 0.076 & Expected frequency: 75.503\n",
      "4= probability: 0.021 & Expected frequency: 21.009\n",
      "5= probability: 0.005 & Expected frequency: 4.677\n",
      "6= probability: 0.001 & Expected frequency: 0.867\n"
     ]
    }
   ],
   "source": [
    "def poisson(x,lam): \n",
    "    p=(((math.e)**(-lam))*(lam**x))/math.factorial(x) \n",
    "    return p \n",
    "\n",
    "pois_prob=[] \n",
    "pois_freq=[] \n",
    "print(\"Poisson probabilities & Expected frequencies for each event:\") \n",
    "\n",
    "for i in number_of_events: \n",
    "    pp=poisson(i,mean_num_events) \n",
    "    pf=pp*sum(frequency) \n",
    "    print(\"{}= probability: {:.3f} & Expected frequency: {:.3f}\".format(i,pp,pf)) \n",
    "    pois_prob.append(pp) \n",
    "    pois_freq.append(pf) "
   ]
  },
  {
   "cell_type": "code",
   "execution_count": 33,
   "id": "f4202e94-876d-48c2-a443-65ca7b5f87ac",
   "metadata": {},
   "outputs": [
    {
     "name": "stdout",
     "output_type": "stream",
     "text": [
      "Degrees of freedom is 5\n"
     ]
    }
   ],
   "source": [
    "n=7 \n",
    "dof=n-2 \n",
    "print(\"Degrees of freedom is {}\".format(dof)) "
   ]
  },
  {
   "cell_type": "code",
   "execution_count": 34,
   "id": "e55cd106-a330-44fe-aaf6-3879346d3820",
   "metadata": {},
   "outputs": [
    {
     "name": "stdout",
     "output_type": "stream",
     "text": [
      "chi-square: 4.125\n"
     ]
    }
   ],
   "source": [
    "#Chi-square goodness of fit test\n",
    "chi_square=0 \n",
    "for (i,j) in zip(frequency,pois_freq): \n",
    "    chi_square += ((i-j)**2)/j \n",
    "print(\"chi-square: {:.3f}\".format(chi_square)) "
   ]
  },
  {
   "cell_type": "markdown",
   "id": "4798bb43-c4c0-44ab-84d0-870f35ca64a8",
   "metadata": {},
   "source": [
    "When I look at the table of significance level for chi-square(In module resources in canvas)\n",
    "Degrees of freedom is 5. \n",
    "Critical value at 0.05 significance level is 11.07"
   ]
  },
  {
   "cell_type": "code",
   "execution_count": 35,
   "id": "2539adbe-ce5f-4aa7-81e4-557ba676e574",
   "metadata": {},
   "outputs": [],
   "source": [
    "critical_val=11.07\n",
    "def null_hypo_test(chi_square,critical_val): \n",
    "    if chi_square<=critical_val: \n",
    "        print(\"There is not enough evidence to reject null hypothesis at 0.05 significance level\") \n",
    "    else: \n",
    "        print(\"The null hypothesis can be rejected at 0.05 significance level\")"
   ]
  },
  {
   "cell_type": "code",
   "execution_count": 36,
   "id": "6267a62f-7b66-4950-b5bf-8a0940ebdba7",
   "metadata": {},
   "outputs": [
    {
     "name": "stdout",
     "output_type": "stream",
     "text": [
      "There is not enough evidence to reject null hypothesis at 0.05 significance level\n"
     ]
    }
   ],
   "source": [
    "null_hypo_test(chi_square,critical_val) "
   ]
  },
  {
   "cell_type": "markdown",
   "id": "cff6b0a8-f65b-4ea1-b6fb-76838484e3b8",
   "metadata": {},
   "source": [
    "Therefore, null hypothesis cannot be rejected.\n",
    "Poisson distribution provides good fit to the data."
   ]
  },
  {
   "cell_type": "markdown",
   "id": "7df10a2e-1df2-4ec4-9a94-877a716acbae",
   "metadata": {},
   "source": [
    "### Q4"
   ]
  },
  {
   "cell_type": "code",
   "execution_count": 37,
   "id": "c06cd9ec-54d8-4b86-bf12-09a8397abdf4",
   "metadata": {},
   "outputs": [
    {
     "name": "stdout",
     "output_type": "stream",
     "text": [
      "P(COVID | Positive) is 1.88%\n",
      "P(COVID | Negative) is 0.015%\n"
     ]
    }
   ],
   "source": [
    "# Given in the question\n",
    "prob_covid = 36.4 / 100000  # P(COVID)\n",
    "prob_pos_covid = 0.58  # P(Positive | COVID)\n",
    "prob_false_pos = 0.011  # P(Positive | No COVID)\n",
    "\n",
    "#Calculating the needed probabilities\n",
    "prob_neg_covid = 1 - prob_pos_covid  # P(Negative | COVID)\n",
    "prob_false_neg = 1 - prob_false_pos  # P(Negative | No COVID)\n",
    "no_covid = 1 - prob_covid  # P(No COVID)\n",
    "\n",
    "#Calculate P(Positive)\n",
    "p_positive = (prob_pos_covid * prob_covid) + (prob_false_pos * no_covid)\n",
    "\n",
    "#Calculate P(COVID | Positive) using Bayes\n",
    "p_covid_given_positive = (prob_pos_covid * prob_covid) / p_positive\n",
    "\n",
    "#Calculate P(Negative)\n",
    "p_negative = (prob_neg_covid * prob_covid) + (prob_false_neg * no_covid)\n",
    "\n",
    "#Calculate P(COVID | Negative) using Bayes\n",
    "p_covid_given_negative = (prob_neg_covid * prob_covid) / p_negative\n",
    "\n",
    "print(\"P(COVID | Positive) is {:.2%}\".format(p_covid_given_positive))\n",
    "print(\"P(COVID | Negative) is {:.3%}\".format(p_covid_given_negative))\n"
   ]
  },
  {
   "cell_type": "markdown",
   "id": "69dfdc4f-45d2-4971-b5d5-9a6743a538a8",
   "metadata": {},
   "source": [
    "### Q6"
   ]
  },
  {
   "cell_type": "code",
   "execution_count": 38,
   "id": "4340c03a-13ca-49b3-8678-2fe0d418af7c",
   "metadata": {},
   "outputs": [
    {
     "name": "stdout",
     "output_type": "stream",
     "text": [
      "Upper Limit is 0.75\n"
     ]
    }
   ],
   "source": [
    "import numpy as np\n",
    "from scipy.stats import truncnorm\n",
    "\n",
    "measured_flux = -0.4  # mean (measured flux) (wrong)\n",
    "error_flux = 0.5  # standard deviation\n",
    "minimum_flux = 0  # flux cannot be negative\n",
    "\n",
    "#Calculating the lower bound for truncation\n",
    "lower_bound = (minimum_flux - measured_flux) / error_flux  # Normalized lower bound\n",
    "\n",
    "#Finding the 95% point in the truncated Gaussian.\n",
    "upper_limit_flux = truncnorm.ppf(0.95, lower_bound, np.inf, loc=measured_flux, scale=error_flux)\n",
    "\n",
    "round_upperlimit=round(upper_limit_flux,2)\n",
    "\n",
    "print('Upper Limit is {}'.format(round_upperlimit))"
   ]
  },
  {
   "cell_type": "code",
   "execution_count": null,
   "id": "5a7c9617-7003-49e0-87dc-bf147ef94b9a",
   "metadata": {},
   "outputs": [],
   "source": []
  }
 ],
 "metadata": {
  "kernelspec": {
   "display_name": "Python 3 (ipykernel)",
   "language": "python",
   "name": "python3"
  },
  "language_info": {
   "codemirror_mode": {
    "name": "ipython",
    "version": 3
   },
   "file_extension": ".py",
   "mimetype": "text/x-python",
   "name": "python",
   "nbconvert_exporter": "python",
   "pygments_lexer": "ipython3",
   "version": "3.12.3"
  }
 },
 "nbformat": 4,
 "nbformat_minor": 5
}
